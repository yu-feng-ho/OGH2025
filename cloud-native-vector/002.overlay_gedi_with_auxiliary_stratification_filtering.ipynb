{
  "nbformat": 4,
  "nbformat_minor": 0,
  "metadata": {
    "colab": {
      "provenance": []
    },
    "kernelspec": {
      "name": "python3",
      "display_name": "Python 3"
    },
    "language_info": {
      "name": "python"
    },
    "widgets": {
      "application/vnd.jupyter.widget-state+json": {
        "cd2e9ce596cb421998495e8824493e9d": {
          "model_module": "@jupyter-widgets/controls",
          "model_name": "FloatProgressModel",
          "model_module_version": "1.5.0",
          "state": {
            "_dom_classes": [],
            "_model_module": "@jupyter-widgets/controls",
            "_model_module_version": "1.5.0",
            "_model_name": "FloatProgressModel",
            "_view_count": null,
            "_view_module": "@jupyter-widgets/controls",
            "_view_module_version": "1.5.0",
            "_view_name": "ProgressView",
            "bar_style": "",
            "description": "",
            "description_tooltip": null,
            "layout": "IPY_MODEL_d845c45de04d4f32b6a7e7df8fe5473c",
            "max": 100,
            "min": 0,
            "orientation": "horizontal",
            "style": "IPY_MODEL_6e75e14af02748c0a393e3dd0067790e",
            "value": 100
          }
        },
        "d845c45de04d4f32b6a7e7df8fe5473c": {
          "model_module": "@jupyter-widgets/base",
          "model_name": "LayoutModel",
          "model_module_version": "1.2.0",
          "state": {
            "_model_module": "@jupyter-widgets/base",
            "_model_module_version": "1.2.0",
            "_model_name": "LayoutModel",
            "_view_count": null,
            "_view_module": "@jupyter-widgets/base",
            "_view_module_version": "1.2.0",
            "_view_name": "LayoutView",
            "align_content": null,
            "align_items": null,
            "align_self": null,
            "border": null,
            "bottom": null,
            "display": null,
            "flex": null,
            "flex_flow": null,
            "grid_area": null,
            "grid_auto_columns": null,
            "grid_auto_flow": null,
            "grid_auto_rows": null,
            "grid_column": null,
            "grid_gap": null,
            "grid_row": null,
            "grid_template_areas": null,
            "grid_template_columns": null,
            "grid_template_rows": null,
            "height": null,
            "justify_content": null,
            "justify_items": null,
            "left": null,
            "margin": null,
            "max_height": null,
            "max_width": null,
            "min_height": null,
            "min_width": null,
            "object_fit": null,
            "object_position": null,
            "order": null,
            "overflow": null,
            "overflow_x": null,
            "overflow_y": null,
            "padding": null,
            "right": null,
            "top": null,
            "visibility": null,
            "width": "auto"
          }
        },
        "6e75e14af02748c0a393e3dd0067790e": {
          "model_module": "@jupyter-widgets/controls",
          "model_name": "ProgressStyleModel",
          "model_module_version": "1.5.0",
          "state": {
            "_model_module": "@jupyter-widgets/controls",
            "_model_module_version": "1.5.0",
            "_model_name": "ProgressStyleModel",
            "_view_count": null,
            "_view_module": "@jupyter-widgets/base",
            "_view_module_version": "1.2.0",
            "_view_name": "StyleView",
            "bar_color": "black",
            "description_width": ""
          }
        }
      }
    }
  },
  "cells": [
    {
      "cell_type": "markdown",
      "source": [
        "This tutorial will apply the knowledge from the previous `\"001.cloud-native-format-access.ipynb\"`. We are going to retrieve OLM-GEDI in the area of Benelux, and then we will overlay with some auxiliary raster layers, such as land cover, DTM height, canopy height models, surface water, and so on. By retrieval of the pixel value, we are able to fliter some outliers, and conduct stratification data table for better representation for the next coming canopy height modeling."
      ],
      "metadata": {
        "id": "Z0Q-o4DomsPc"
      }
    },
    {
      "cell_type": "code",
      "execution_count": 1,
      "metadata": {
        "colab": {
          "base_uri": "https://localhost:8080/"
        },
        "id": "wQap6jTMZhna",
        "outputId": "45e7d2bd-13af-4bbb-8b07-22073e1f12d9"
      },
      "outputs": [
        {
          "output_type": "stream",
          "name": "stdout",
          "text": [
            "\r0% [Working]\r            \rHit:1 https://cli.github.com/packages stable InRelease\n",
            "\r0% [Connecting to archive.ubuntu.com (185.125.190.81)] [Waiting for headers] [C\r                                                                               \rHit:2 https://developer.download.nvidia.com/compute/cuda/repos/ubuntu2204/x86_64  InRelease\n",
            "\r0% [Connecting to archive.ubuntu.com (185.125.190.81)] [Waiting for headers] [C\r                                                                               \rHit:3 https://cloud.r-project.org/bin/linux/ubuntu jammy-cran40/ InRelease\n",
            "\r0% [Connecting to archive.ubuntu.com (185.125.190.81)] [Waiting for headers] [W\r                                                                               \rHit:4 http://security.ubuntu.com/ubuntu jammy-security InRelease\n",
            "Hit:5 https://r2u.stat.illinois.edu/ubuntu jammy InRelease\n",
            "Hit:6 http://archive.ubuntu.com/ubuntu jammy InRelease\n",
            "Hit:7 http://archive.ubuntu.com/ubuntu jammy-updates InRelease\n",
            "Hit:8 http://archive.ubuntu.com/ubuntu jammy-backports InRelease\n",
            "Hit:9 https://ppa.launchpadcontent.net/deadsnakes/ppa/ubuntu jammy InRelease\n",
            "Hit:10 https://ppa.launchpadcontent.net/graphics-drivers/ppa/ubuntu jammy InRelease\n",
            "Hit:11 https://ppa.launchpadcontent.net/ubuntugis/ppa/ubuntu jammy InRelease\n",
            "Reading package lists... Done\n",
            "W: Skipping acquire of configured file 'main/source/Sources' as repository 'https://r2u.stat.illinois.edu/ubuntu jammy InRelease' does not seem to provide it (sources.list entry misspelt?)\n",
            "Reading package lists... Done\n",
            "Building dependency tree... Done\n",
            "Reading state information... Done\n",
            "libeigen3-dev is already the newest version (3.4.0-2ubuntu2).\n",
            "0 upgraded, 0 newly installed, 0 to remove and 39 not upgraded.\n",
            "Reading package lists... Done\n",
            "Building dependency tree... Done\n",
            "Reading state information... Done\n",
            "cmake is already the newest version (3.22.1-1ubuntu1.22.04.2).\n",
            "0 upgraded, 0 newly installed, 0 to remove and 39 not upgraded.\n",
            "fatal: destination path 'pybind11' already exists and is not an empty directory.\n",
            "/content/pybind11\n",
            "HEAD is now at a2e59f0e chore: bump to 2.13.6\n",
            "mkdir: cannot create directory ‘build’: File exists\n",
            "/content/pybind11/build\n",
            "\u001b[0mCMake Deprecation Warning at CMakeLists.txt:13 (cmake_minimum_required):\n",
            "  Compatibility with CMake < 3.10 will be removed from a future version of\n",
            "  CMake.\n",
            "\n",
            "  Update the VERSION argument <min> value.  Or, use the <min>...<max> syntax\n",
            "  to tell CMake that the project requires at least <min> but has been updated\n",
            "  to work with policies introduced by <max> or earlier.\n",
            "\n",
            "\u001b[0m\n",
            "-- pybind11 v2.13.6 \n",
            "-- CMake 3.31.6\n",
            "-- Python 3.12.11\n",
            "-- pybind11::lto enabled\n",
            "-- pybind11::thin_lto enabled\n",
            "\u001b[0mCMake Deprecation Warning at tests/CMakeLists.txt:8 (cmake_minimum_required):\n",
            "  Compatibility with CMake < 3.10 will be removed from a future version of\n",
            "  CMake.\n",
            "\n",
            "  Update the VERSION argument <min> value.  Or, use the <min>...<max> syntax\n",
            "  to tell CMake that the project requires at least <min> but has been updated\n",
            "  to work with policies introduced by <max> or earlier.\n",
            "\n",
            "\u001b[0m\n",
            "-- Building tests with Eigen v3.4.0\n",
            "\u001b[33mCMake Warning (dev) at tests/CMakeLists.txt:335 (find_package):\n",
            "  Policy CMP0167 is not set: The FindBoost module is removed.  Run \"cmake\n",
            "  --help-policy CMP0167\" for policy details.  Use the cmake_policy command to\n",
            "  set the policy and suppress this warning.\n",
            "\n",
            "This warning is for project developers.  Use -Wno-dev to suppress it.\n",
            "\u001b[0m\n",
            "-- Catch not detected. Interpreter tests will be skipped. Install Catch headers manually or use `cmake -DDOWNLOAD_CATCH=ON` to fetch them automatically.\n",
            "\u001b[0mCMake Deprecation Warning at tests/test_cmake_build/subdirectory_target/CMakeLists.txt:1 (cmake_minimum_required):\n",
            "  Compatibility with CMake < 3.10 will be removed from a future version of\n",
            "  CMake.\n",
            "\n",
            "  Update the VERSION argument <min> value.  Or, use the <min>...<max> syntax\n",
            "  to tell CMake that the project requires at least <min> but has been updated\n",
            "  to work with policies introduced by <max> or earlier.\n",
            "\n",
            "\u001b[0m\n",
            "\u001b[0mCMake Deprecation Warning at CMakeLists.txt:13 (cmake_minimum_required):\n",
            "  Compatibility with CMake < 3.10 will be removed from a future version of\n",
            "  CMake.\n",
            "\n",
            "  Update the VERSION argument <min> value.  Or, use the <min>...<max> syntax\n",
            "  to tell CMake that the project requires at least <min> but has been updated\n",
            "  to work with policies introduced by <max> or earlier.\n",
            "\n",
            "\u001b[0m\n",
            "\u001b[0mCMake Deprecation Warning at tests/test_cmake_build/subdirectory_embed/CMakeLists.txt:1 (cmake_minimum_required):\n",
            "  Compatibility with CMake < 3.10 will be removed from a future version of\n",
            "  CMake.\n",
            "\n",
            "  Update the VERSION argument <min> value.  Or, use the <min>...<max> syntax\n",
            "  to tell CMake that the project requires at least <min> but has been updated\n",
            "  to work with policies introduced by <max> or earlier.\n",
            "\n",
            "\u001b[0m\n",
            "\u001b[0mCMake Deprecation Warning at CMakeLists.txt:13 (cmake_minimum_required):\n",
            "  Compatibility with CMake < 3.10 will be removed from a future version of\n",
            "  CMake.\n",
            "\n",
            "  Update the VERSION argument <min> value.  Or, use the <min>...<max> syntax\n",
            "  to tell CMake that the project requires at least <min> but has been updated\n",
            "  to work with policies introduced by <max> or earlier.\n",
            "\n",
            "\u001b[0m\n",
            "-- Configuring done (2.4s)\n",
            "-- Generating done (0.1s)\n",
            "-- Build files have been written to: /content/pybind11/build\n",
            "[  3%] Built target pybind11_cross_module_tests\n",
            "[  6%] Built target cross_module_interleaved_error_already_set\n",
            "[  9%] Built target cross_module_gil_utils\n",
            "[ 12%] Built target exo_planet_pybind11\n",
            "[ 15%] Built target exo_planet_c_api\n",
            "[ 18%] Built target home_planet_very_lonely_traveler\n",
            "[ 21%] Built target eigen_tensor_avoid_stl_array\n",
            "[100%] Built target pybind11_tests\n",
            "[ 78%] Built target pybind11_tests\n",
            "[ 81%] Built target pybind11_cross_module_tests\n",
            "[ 84%] Built target cross_module_interleaved_error_already_set\n",
            "[ 87%] Built target cross_module_gil_utils\n",
            "[ 90%] Built target exo_planet_pybind11\n",
            "[ 93%] Built target exo_planet_c_api\n",
            "[ 96%] Built target home_planet_very_lonely_traveler\n",
            "[100%] Built target eigen_tensor_avoid_stl_array\n",
            "\u001b[36mInstall the project...\u001b[0m\n",
            "-- Install configuration: \"MinSizeRel\"\n",
            "-- Up-to-date: /usr/local/include/pybind11\n",
            "-- Up-to-date: /usr/local/include/pybind11/stl.h\n",
            "-- Up-to-date: /usr/local/include/pybind11/embed.h\n",
            "-- Up-to-date: /usr/local/include/pybind11/gil.h\n",
            "-- Up-to-date: /usr/local/include/pybind11/stl_bind.h\n",
            "-- Up-to-date: /usr/local/include/pybind11/stl\n",
            "-- Up-to-date: /usr/local/include/pybind11/stl/filesystem.h\n",
            "-- Up-to-date: /usr/local/include/pybind11/buffer_info.h\n",
            "-- Up-to-date: /usr/local/include/pybind11/detail\n",
            "-- Up-to-date: /usr/local/include/pybind11/detail/exception_translation.h\n",
            "-- Up-to-date: /usr/local/include/pybind11/detail/type_caster_base.h\n",
            "-- Up-to-date: /usr/local/include/pybind11/detail/init.h\n",
            "-- Up-to-date: /usr/local/include/pybind11/detail/typeid.h\n",
            "-- Up-to-date: /usr/local/include/pybind11/detail/descr.h\n",
            "-- Up-to-date: /usr/local/include/pybind11/detail/internals.h\n",
            "-- Up-to-date: /usr/local/include/pybind11/detail/common.h\n",
            "-- Up-to-date: /usr/local/include/pybind11/detail/cpp_conduit.h\n",
            "-- Up-to-date: /usr/local/include/pybind11/detail/class.h\n",
            "-- Up-to-date: /usr/local/include/pybind11/detail/value_and_holder.h\n",
            "-- Up-to-date: /usr/local/include/pybind11/eigen\n",
            "-- Up-to-date: /usr/local/include/pybind11/eigen/tensor.h\n",
            "-- Up-to-date: /usr/local/include/pybind11/eigen/common.h\n",
            "-- Up-to-date: /usr/local/include/pybind11/eigen/matrix.h\n",
            "-- Up-to-date: /usr/local/include/pybind11/pybind11.h\n",
            "-- Up-to-date: /usr/local/include/pybind11/cast.h\n",
            "-- Up-to-date: /usr/local/include/pybind11/eval.h\n",
            "-- Up-to-date: /usr/local/include/pybind11/iostream.h\n",
            "-- Up-to-date: /usr/local/include/pybind11/numpy.h\n",
            "-- Up-to-date: /usr/local/include/pybind11/eigen.h\n",
            "-- Up-to-date: /usr/local/include/pybind11/chrono.h\n",
            "-- Up-to-date: /usr/local/include/pybind11/gil_safe_call_once.h\n",
            "-- Up-to-date: /usr/local/include/pybind11/common.h\n",
            "-- Up-to-date: /usr/local/include/pybind11/typing.h\n",
            "-- Up-to-date: /usr/local/include/pybind11/pytypes.h\n",
            "-- Up-to-date: /usr/local/include/pybind11/type_caster_pyobject_ptr.h\n",
            "-- Up-to-date: /usr/local/include/pybind11/options.h\n",
            "-- Up-to-date: /usr/local/include/pybind11/operators.h\n",
            "-- Up-to-date: /usr/local/include/pybind11/functional.h\n",
            "-- Up-to-date: /usr/local/include/pybind11/complex.h\n",
            "-- Up-to-date: /usr/local/include/pybind11/attr.h\n",
            "-- Up-to-date: /usr/local/share/cmake/pybind11/pybind11Config.cmake\n",
            "-- Up-to-date: /usr/local/share/cmake/pybind11/pybind11ConfigVersion.cmake\n",
            "-- Up-to-date: /usr/local/share/cmake/pybind11/FindPythonLibsNew.cmake\n",
            "-- Up-to-date: /usr/local/share/cmake/pybind11/pybind11Common.cmake\n",
            "-- Up-to-date: /usr/local/share/cmake/pybind11/pybind11Tools.cmake\n",
            "-- Up-to-date: /usr/local/share/cmake/pybind11/pybind11NewTools.cmake\n",
            "-- Up-to-date: /usr/local/share/cmake/pybind11/pybind11GuessPythonExtSuffix.cmake\n",
            "-- Up-to-date: /usr/local/share/cmake/pybind11/pybind11Targets.cmake\n",
            "-- Up-to-date: /usr/local/share/pkgconfig/pybind11.pc\n",
            "Hit:1 http://security.ubuntu.com/ubuntu jammy-security InRelease\n",
            "Hit:2 https://cloud.r-project.org/bin/linux/ubuntu jammy-cran40/ InRelease\n",
            "Hit:3 https://developer.download.nvidia.com/compute/cuda/repos/ubuntu2204/x86_64  InRelease\n",
            "Hit:4 http://archive.ubuntu.com/ubuntu jammy InRelease\n",
            "Hit:5 https://cli.github.com/packages stable InRelease\n",
            "Hit:6 http://archive.ubuntu.com/ubuntu jammy-updates InRelease\n",
            "Hit:7 https://r2u.stat.illinois.edu/ubuntu jammy InRelease\n",
            "Hit:8 http://archive.ubuntu.com/ubuntu jammy-backports InRelease\n",
            "Hit:9 https://ppa.launchpadcontent.net/deadsnakes/ppa/ubuntu jammy InRelease\n",
            "Hit:10 https://ppa.launchpadcontent.net/graphics-drivers/ppa/ubuntu jammy InRelease\n",
            "Hit:11 https://ppa.launchpadcontent.net/ubuntugis/ppa/ubuntu jammy InRelease\n",
            "Reading package lists... Done\n",
            "W: Skipping acquire of configured file 'main/source/Sources' as repository 'https://r2u.stat.illinois.edu/ubuntu jammy InRelease' does not seem to provide it (sources.list entry misspelt?)\n",
            "Reading package lists... Done\n",
            "Building dependency tree... Done\n",
            "Reading state information... Done\n",
            "libeigen3-dev is already the newest version (3.4.0-2ubuntu2).\n",
            "0 upgraded, 0 newly installed, 0 to remove and 39 not upgraded.\n",
            "Reading package lists... Done\n",
            "Building dependency tree... Done\n",
            "Reading state information... Done\n",
            "cmake is already the newest version (3.22.1-1ubuntu1.22.04.2).\n",
            "0 upgraded, 0 newly installed, 0 to remove and 39 not upgraded.\n",
            "fatal: destination path 'pybind11' already exists and is not an empty directory.\n",
            "/content/pybind11/build/pybind11\n",
            "HEAD is now at a2e59f0e chore: bump to 2.13.6\n",
            "mkdir: cannot create directory ‘build’: File exists\n",
            "Reading package lists... Done\n",
            "Building dependency tree... Done\n",
            "Reading state information... Done\n",
            "gdal-bin is already the newest version (3.8.4+dfsg-1~jammy0).\n",
            "libgdal-dev is already the newest version (3.8.4+dfsg-1~jammy0).\n",
            "libgeos-dev is already the newest version (3.12.1-1~jammy0).\n",
            "libproj-dev is already the newest version (9.3.1-1~jammy0).\n",
            "postgis is already the newest version (3.4.1+dfsg-1~jammy0).\n",
            "0 upgraded, 0 newly installed, 0 to remove and 39 not upgraded.\n",
            "Collecting git+https://github.com/openlandmap/scikit-map.git@develop\n",
            "  Cloning https://github.com/openlandmap/scikit-map.git (to revision develop) to /tmp/pip-req-build-zdnophms\n",
            "  Running command git clone --filter=blob:none --quiet https://github.com/openlandmap/scikit-map.git /tmp/pip-req-build-zdnophms\n",
            "  Running command git checkout -b develop --track origin/develop\n",
            "  Switched to a new branch 'develop'\n",
            "  Branch 'develop' set up to track remote branch 'develop' from 'origin'.\n",
            "  Resolved https://github.com/openlandmap/scikit-map.git to commit 42561d096715be7953fe69b1a3a9b1a14e0e3ff7\n",
            "  Running command git submodule update --init --recursive -q\n",
            "  Preparing metadata (setup.py) ... \u001b[?25l\u001b[?25hdone\n",
            "Requirement already satisfied: GDAL>=3.1 in /usr/local/lib/python3.12/dist-packages (from scikit-map==0.7.3) (3.8.4)\n",
            "Requirement already satisfied: affine>=2.3 in /usr/local/lib/python3.12/dist-packages (from scikit-map==0.7.3) (2.4.0)\n",
            "Requirement already satisfied: geopandas>=0.13 in /usr/local/lib/python3.12/dist-packages (from scikit-map==0.7.3) (1.1.1)\n",
            "Requirement already satisfied: joblib>=1.1.0 in /usr/local/lib/python3.12/dist-packages (from scikit-map==0.7.3) (1.5.1)\n",
            "Requirement already satisfied: numpy>=1.19 in /usr/local/lib/python3.12/dist-packages (from scikit-map==0.7.3) (2.0.2)\n",
            "Requirement already satisfied: pyproj>=3.1 in /usr/local/lib/python3.12/dist-packages (from scikit-map==0.7.3) (3.7.2)\n",
            "Requirement already satisfied: pandas>=2.0 in /usr/local/lib/python3.12/dist-packages (from scikit-map==0.7.3) (2.2.2)\n",
            "Requirement already satisfied: requests>=2.24 in /usr/local/lib/python3.12/dist-packages (from scikit-map==0.7.3) (2.32.4)\n",
            "Requirement already satisfied: scikit-learn>=1.3 in /usr/local/lib/python3.12/dist-packages (from scikit-map==0.7.3) (1.6.1)\n",
            "Requirement already satisfied: rasterio>=1.1 in /usr/local/lib/python3.12/dist-packages (from scikit-map==0.7.3) (1.4.3)\n",
            "Requirement already satisfied: pyogrio>=0.7.2 in /usr/local/lib/python3.12/dist-packages (from geopandas>=0.13->scikit-map==0.7.3) (0.11.1)\n",
            "Requirement already satisfied: packaging in /usr/local/lib/python3.12/dist-packages (from geopandas>=0.13->scikit-map==0.7.3) (25.0)\n",
            "Requirement already satisfied: shapely>=2.0.0 in /usr/local/lib/python3.12/dist-packages (from geopandas>=0.13->scikit-map==0.7.3) (2.1.1)\n",
            "Requirement already satisfied: python-dateutil>=2.8.2 in /usr/local/lib/python3.12/dist-packages (from pandas>=2.0->scikit-map==0.7.3) (2.9.0.post0)\n",
            "Requirement already satisfied: pytz>=2020.1 in /usr/local/lib/python3.12/dist-packages (from pandas>=2.0->scikit-map==0.7.3) (2025.2)\n",
            "Requirement already satisfied: tzdata>=2022.7 in /usr/local/lib/python3.12/dist-packages (from pandas>=2.0->scikit-map==0.7.3) (2025.2)\n",
            "Requirement already satisfied: certifi in /usr/local/lib/python3.12/dist-packages (from pyproj>=3.1->scikit-map==0.7.3) (2025.8.3)\n",
            "Requirement already satisfied: attrs in /usr/local/lib/python3.12/dist-packages (from rasterio>=1.1->scikit-map==0.7.3) (25.3.0)\n",
            "Requirement already satisfied: click>=4.0 in /usr/local/lib/python3.12/dist-packages (from rasterio>=1.1->scikit-map==0.7.3) (8.2.1)\n",
            "Requirement already satisfied: cligj>=0.5 in /usr/local/lib/python3.12/dist-packages (from rasterio>=1.1->scikit-map==0.7.3) (0.7.2)\n",
            "Requirement already satisfied: click-plugins in /usr/local/lib/python3.12/dist-packages (from rasterio>=1.1->scikit-map==0.7.3) (1.1.1.2)\n",
            "Requirement already satisfied: pyparsing in /usr/local/lib/python3.12/dist-packages (from rasterio>=1.1->scikit-map==0.7.3) (3.2.3)\n",
            "Requirement already satisfied: charset_normalizer<4,>=2 in /usr/local/lib/python3.12/dist-packages (from requests>=2.24->scikit-map==0.7.3) (3.4.3)\n",
            "Requirement already satisfied: idna<4,>=2.5 in /usr/local/lib/python3.12/dist-packages (from requests>=2.24->scikit-map==0.7.3) (3.10)\n",
            "Requirement already satisfied: urllib3<3,>=1.21.1 in /usr/local/lib/python3.12/dist-packages (from requests>=2.24->scikit-map==0.7.3) (2.5.0)\n",
            "Requirement already satisfied: scipy>=1.6.0 in /usr/local/lib/python3.12/dist-packages (from scikit-learn>=1.3->scikit-map==0.7.3) (1.16.1)\n",
            "Requirement already satisfied: threadpoolctl>=3.1.0 in /usr/local/lib/python3.12/dist-packages (from scikit-learn>=1.3->scikit-map==0.7.3) (3.6.0)\n",
            "Requirement already satisfied: six>=1.5 in /usr/local/lib/python3.12/dist-packages (from python-dateutil>=2.8.2->pandas>=2.0->scikit-map==0.7.3) (1.17.0)\n",
            "Reading package lists... Done\n",
            "Building dependency tree... Done\n",
            "Reading state information... Done\n",
            "gdal-bin is already the newest version (3.8.4+dfsg-1~jammy0).\n",
            "libgdal-dev is already the newest version (3.8.4+dfsg-1~jammy0).\n",
            "libgeos-dev is already the newest version (3.12.1-1~jammy0).\n",
            "libproj-dev is already the newest version (9.3.1-1~jammy0).\n",
            "postgis is already the newest version (3.4.1+dfsg-1~jammy0).\n",
            "0 upgraded, 0 newly installed, 0 to remove and 39 not upgraded.\n",
            "Collecting git+https://github.com/openlandmap/scikit-map.git@develop\n",
            "  Cloning https://github.com/openlandmap/scikit-map.git (to revision develop) to /tmp/pip-req-build-dkre8v1l\n",
            "  Running command git clone --filter=blob:none --quiet https://github.com/openlandmap/scikit-map.git /tmp/pip-req-build-dkre8v1l\n",
            "  Running command git checkout -b develop --track origin/develop\n",
            "  Switched to a new branch 'develop'\n",
            "  Branch 'develop' set up to track remote branch 'develop' from 'origin'.\n",
            "  Resolved https://github.com/openlandmap/scikit-map.git to commit 42561d096715be7953fe69b1a3a9b1a14e0e3ff7\n",
            "  Running command git submodule update --init --recursive -q\n",
            "  Preparing metadata (setup.py) ... \u001b[?25l\u001b[?25hdone\n",
            "Requirement already satisfied: GDAL>=3.1 in /usr/local/lib/python3.12/dist-packages (from scikit-map==0.7.3) (3.8.4)\n",
            "Requirement already satisfied: affine>=2.3 in /usr/local/lib/python3.12/dist-packages (from scikit-map==0.7.3) (2.4.0)\n",
            "Requirement already satisfied: geopandas>=0.13 in /usr/local/lib/python3.12/dist-packages (from scikit-map==0.7.3) (1.1.1)\n",
            "Requirement already satisfied: joblib>=1.1.0 in /usr/local/lib/python3.12/dist-packages (from scikit-map==0.7.3) (1.5.1)\n",
            "Requirement already satisfied: numpy>=1.19 in /usr/local/lib/python3.12/dist-packages (from scikit-map==0.7.3) (2.0.2)\n",
            "Requirement already satisfied: pyproj>=3.1 in /usr/local/lib/python3.12/dist-packages (from scikit-map==0.7.3) (3.7.2)\n",
            "Requirement already satisfied: pandas>=2.0 in /usr/local/lib/python3.12/dist-packages (from scikit-map==0.7.3) (2.2.2)\n",
            "Requirement already satisfied: requests>=2.24 in /usr/local/lib/python3.12/dist-packages (from scikit-map==0.7.3) (2.32.4)\n",
            "Requirement already satisfied: scikit-learn>=1.3 in /usr/local/lib/python3.12/dist-packages (from scikit-map==0.7.3) (1.6.1)\n",
            "Requirement already satisfied: rasterio>=1.1 in /usr/local/lib/python3.12/dist-packages (from scikit-map==0.7.3) (1.4.3)\n",
            "Requirement already satisfied: pyogrio>=0.7.2 in /usr/local/lib/python3.12/dist-packages (from geopandas>=0.13->scikit-map==0.7.3) (0.11.1)\n",
            "Requirement already satisfied: packaging in /usr/local/lib/python3.12/dist-packages (from geopandas>=0.13->scikit-map==0.7.3) (25.0)\n",
            "Requirement already satisfied: shapely>=2.0.0 in /usr/local/lib/python3.12/dist-packages (from geopandas>=0.13->scikit-map==0.7.3) (2.1.1)\n",
            "Requirement already satisfied: python-dateutil>=2.8.2 in /usr/local/lib/python3.12/dist-packages (from pandas>=2.0->scikit-map==0.7.3) (2.9.0.post0)\n",
            "Requirement already satisfied: pytz>=2020.1 in /usr/local/lib/python3.12/dist-packages (from pandas>=2.0->scikit-map==0.7.3) (2025.2)\n",
            "Requirement already satisfied: tzdata>=2022.7 in /usr/local/lib/python3.12/dist-packages (from pandas>=2.0->scikit-map==0.7.3) (2025.2)\n",
            "Requirement already satisfied: certifi in /usr/local/lib/python3.12/dist-packages (from pyproj>=3.1->scikit-map==0.7.3) (2025.8.3)\n",
            "Requirement already satisfied: attrs in /usr/local/lib/python3.12/dist-packages (from rasterio>=1.1->scikit-map==0.7.3) (25.3.0)\n",
            "Requirement already satisfied: click>=4.0 in /usr/local/lib/python3.12/dist-packages (from rasterio>=1.1->scikit-map==0.7.3) (8.2.1)\n",
            "Requirement already satisfied: cligj>=0.5 in /usr/local/lib/python3.12/dist-packages (from rasterio>=1.1->scikit-map==0.7.3) (0.7.2)\n",
            "Requirement already satisfied: click-plugins in /usr/local/lib/python3.12/dist-packages (from rasterio>=1.1->scikit-map==0.7.3) (1.1.1.2)\n",
            "Requirement already satisfied: pyparsing in /usr/local/lib/python3.12/dist-packages (from rasterio>=1.1->scikit-map==0.7.3) (3.2.3)\n",
            "Requirement already satisfied: charset_normalizer<4,>=2 in /usr/local/lib/python3.12/dist-packages (from requests>=2.24->scikit-map==0.7.3) (3.4.3)\n",
            "Requirement already satisfied: idna<4,>=2.5 in /usr/local/lib/python3.12/dist-packages (from requests>=2.24->scikit-map==0.7.3) (3.10)\n",
            "Requirement already satisfied: urllib3<3,>=1.21.1 in /usr/local/lib/python3.12/dist-packages (from requests>=2.24->scikit-map==0.7.3) (2.5.0)\n",
            "Requirement already satisfied: scipy>=1.6.0 in /usr/local/lib/python3.12/dist-packages (from scikit-learn>=1.3->scikit-map==0.7.3) (1.16.1)\n",
            "Requirement already satisfied: threadpoolctl>=3.1.0 in /usr/local/lib/python3.12/dist-packages (from scikit-learn>=1.3->scikit-map==0.7.3) (3.6.0)\n",
            "Requirement already satisfied: six>=1.5 in /usr/local/lib/python3.12/dist-packages (from python-dateutil>=2.8.2->pandas>=2.0->scikit-map==0.7.3) (1.17.0)\n",
            "Requirement already satisfied: minio in /usr/local/lib/python3.12/dist-packages (7.2.16)\n",
            "Requirement already satisfied: argon2-cffi in /usr/local/lib/python3.12/dist-packages (from minio) (25.1.0)\n",
            "Requirement already satisfied: certifi in /usr/local/lib/python3.12/dist-packages (from minio) (2025.8.3)\n",
            "Requirement already satisfied: pycryptodome in /usr/local/lib/python3.12/dist-packages (from minio) (3.23.0)\n",
            "Requirement already satisfied: typing-extensions in /usr/local/lib/python3.12/dist-packages (from minio) (4.15.0)\n",
            "Requirement already satisfied: urllib3 in /usr/local/lib/python3.12/dist-packages (from minio) (2.5.0)\n",
            "Requirement already satisfied: argon2-cffi-bindings in /usr/local/lib/python3.12/dist-packages (from argon2-cffi->minio) (25.1.0)\n",
            "Requirement already satisfied: cffi>=1.0.1 in /usr/local/lib/python3.12/dist-packages (from argon2-cffi-bindings->argon2-cffi->minio) (1.17.1)\n",
            "Requirement already satisfied: pycparser in /usr/local/lib/python3.12/dist-packages (from cffi>=1.0.1->argon2-cffi-bindings->argon2-cffi->minio) (2.22)\n",
            "/content\n"
          ]
        }
      ],
      "source": [
        "# Install required packages\n",
        "## Install Eigen, and other system libraries\n",
        "!apt-get update\n",
        "!apt-get install -y libeigen3-dev\n",
        "\n",
        "## Install recent version of pybind11\n",
        "!sudo apt-get install cmake\n",
        "!git clone https://github.com/pybind/pybind11.git\n",
        "%cd pybind11\n",
        "!git checkout v2.13.6\n",
        "!mkdir build\n",
        "%cd build\n",
        "!cmake ..\n",
        "!make -j$(nproc --all)\n",
        "!sudo make install\n",
        "\n",
        "## Create symbolic links for Eigen (this step may not always be needed)\n",
        "!ln -sf /usr/include/eigen3/Eigen /usr/include/Eigen\n",
        "!ln -sf /usr/include/eigen3/unsupported /usr/include/unsupported\n",
        "## Install Eigen, and other system libraries\n",
        "!apt-get update\n",
        "!apt-get install -y libeigen3-dev\n",
        "\n",
        "## Install recent version of pybind11\n",
        "!sudo apt-get install cmake\n",
        "!git clone https://github.com/pybind/pybind11.git\n",
        "%cd pybind11\n",
        "!git checkout v2.13.6\n",
        "!mkdir build\n",
        "!apt-get install -y libproj-dev libgeos-dev gdal-bin libgdal-dev postgis\n",
        "\n",
        "## Install scikit-map\n",
        "!pip install git+https://github.com/openlandmap/scikit-map.git@develop\n",
        "\n",
        "## Install PROJ, GEOS, GDAL, and PostGIS-related libraries\n",
        "!apt-get install -y libproj-dev libgeos-dev gdal-bin libgdal-dev postgis\n",
        "\n",
        "## Install scikit-map\n",
        "!pip install git+https://github.com/openlandmap/scikit-map.git@develop\n",
        "\n",
        "!pip install minio\n",
        "\n",
        "import os\n",
        "## !find /usr -name proj.db\n",
        "## !pip install rasterio pyproj\n",
        "os.unsetenv('PROJ_LIB')\n",
        "os.environ['PROJ_LIB'] = '/usr/local/lib/python3.11/dist-packages/rasterio/proj_data'\n",
        "\n",
        "\n",
        "!pip install -q gdown\n",
        "%cd /content"
      ]
    },
    {
      "cell_type": "code",
      "source": [
        "# load in GEDI02 stac items\n",
        "import geopandas as gpd\n",
        "gedi_items=gpd.read_file('https://s3.eu-central-1.wasabisys.com/stac/openlandmap/GEDI02/stac_items_geojson')\n",
        "print(gedi_items.columns)"
      ],
      "metadata": {
        "colab": {
          "base_uri": "https://localhost:8080/"
        },
        "id": "aeaxAZ65bGdL",
        "outputId": "b4074ef2-4d0b-40a2-9164-a15bfaf0c9bb"
      },
      "execution_count": 2,
      "outputs": [
        {
          "output_type": "stream",
          "name": "stdout",
          "text": [
            "Index(['item_id', 'size_in_mb', 'point_counts', 'year', 'start_date',\n",
            "       'end_date', 'platform', 'stac_extentsion', 'asset_file', 'geometry'],\n",
            "      dtype='object')\n"
          ]
        }
      ]
    },
    {
      "cell_type": "code",
      "source": [
        "# load in the Dutch borders by GADM\n",
        "! wget https://geodata.ucdavis.edu/gadm/gadm4.1/json/gadm41_NLD_1.json.zip\n",
        "! unzip gadm41_NLD_1.json.zip"
      ],
      "metadata": {
        "colab": {
          "base_uri": "https://localhost:8080/"
        },
        "id": "eMHNwcsQbK6v",
        "outputId": "cb4041f7-515b-4849-9227-5141009dff9d"
      },
      "execution_count": 3,
      "outputs": [
        {
          "output_type": "stream",
          "name": "stdout",
          "text": [
            "--2025-08-29 16:24:53--  https://geodata.ucdavis.edu/gadm/gadm4.1/json/gadm41_NLD_1.json.zip\n",
            "Resolving geodata.ucdavis.edu (geodata.ucdavis.edu)... 128.120.146.30\n",
            "Connecting to geodata.ucdavis.edu (geodata.ucdavis.edu)|128.120.146.30|:443... connected.\n",
            "HTTP request sent, awaiting response... 200 OK\n",
            "Length: 29252 (29K) [application/zip]\n",
            "Saving to: ‘gadm41_NLD_1.json.zip.2’\n",
            "\n",
            "gadm41_NLD_1.json.z 100%[===================>]  28.57K  --.-KB/s    in 0.07s   \n",
            "\n",
            "2025-08-29 16:24:54 (381 KB/s) - ‘gadm41_NLD_1.json.zip.2’ saved [29252/29252]\n",
            "\n",
            "Archive:  gadm41_NLD_1.json.zip\n",
            "replace gadm41_NLD_1.json? [y]es, [n]o, [A]ll, [N]one, [r]ename: y\n",
            "  inflating: gadm41_NLD_1.json       \n"
          ]
        }
      ]
    },
    {
      "cell_type": "code",
      "source": [
        "nl_level_1 = 'gadm41_NLD_1.json'\n",
        "nl_provinces = gpd.read_file(nl_level_1)\n",
        "print('crs of nl provinces -',nl_provinces.crs)\n",
        "nl_provinces.head()"
      ],
      "metadata": {
        "colab": {
          "base_uri": "https://localhost:8080/",
          "height": 574
        },
        "id": "m_akpAnmbMep",
        "outputId": "c2c6c290-f075-4abb-d3ac-98b0ffb4c970"
      },
      "execution_count": 4,
      "outputs": [
        {
          "output_type": "stream",
          "name": "stdout",
          "text": [
            "crs of nl provinces - EPSG:4326\n"
          ]
        },
        {
          "output_type": "execute_result",
          "data": {
            "text/plain": [
              "     GID_1 GID_0      COUNTRY      NAME_1                         VARNAME_1  \\\n",
              "0  NLD.1_1   NLD  Netherlands     Drenthe                                NA   \n",
              "1  NLD.2_1   NLD  Netherlands   Flevoland                                NA   \n",
              "2  NLD.3_1   NLD  Netherlands     Fryslân                         Friesland   \n",
              "3  NLD.4_1   NLD  Netherlands  Gelderland  Geldern|Gheldria|Guelders|Gueldr   \n",
              "4  NLD.5_1   NLD  Netherlands   Groningen                Groninga|Groningue   \n",
              "\n",
              "  NL_NAME_1     TYPE_1 ENGTYPE_1 CC_1 HASC_1  ISO_1  \\\n",
              "0        NA  Provincie  Province   NA  NL.DR  NL-DR   \n",
              "1        NA  Provincie  Province   NA  NL.FL  NL-FL   \n",
              "2        NA  Provincie  Province   NA  NL.FR  NL-FR   \n",
              "3        NA  Provincie  Province   NA  NL.GE  NL-GE   \n",
              "4        NA  Provincie  Province   NA  NL.GR  NL-GR   \n",
              "\n",
              "                                            geometry  \n",
              "0  MULTIPOLYGON (((6.5237 52.6455, 6.5274 52.6148...  \n",
              "1  MULTIPOLYGON (((5.3039 52.3125, 5.245 52.3294,...  \n",
              "2  MULTIPOLYGON (((6.2392 52.9132, 6.2149 52.8909...  \n",
              "3  MULTIPOLYGON (((5.1358 51.7385, 5.1314 51.7394...  \n",
              "4  MULTIPOLYGON (((6.9171 53.0116, 6.7468 53.1189...  "
            ],
            "text/html": [
              "\n",
              "  <div id=\"df-acc78d62-208e-4ac4-be71-d4c0fd9a9a59\" class=\"colab-df-container\">\n",
              "    <div>\n",
              "<style scoped>\n",
              "    .dataframe tbody tr th:only-of-type {\n",
              "        vertical-align: middle;\n",
              "    }\n",
              "\n",
              "    .dataframe tbody tr th {\n",
              "        vertical-align: top;\n",
              "    }\n",
              "\n",
              "    .dataframe thead th {\n",
              "        text-align: right;\n",
              "    }\n",
              "</style>\n",
              "<table border=\"1\" class=\"dataframe\">\n",
              "  <thead>\n",
              "    <tr style=\"text-align: right;\">\n",
              "      <th></th>\n",
              "      <th>GID_1</th>\n",
              "      <th>GID_0</th>\n",
              "      <th>COUNTRY</th>\n",
              "      <th>NAME_1</th>\n",
              "      <th>VARNAME_1</th>\n",
              "      <th>NL_NAME_1</th>\n",
              "      <th>TYPE_1</th>\n",
              "      <th>ENGTYPE_1</th>\n",
              "      <th>CC_1</th>\n",
              "      <th>HASC_1</th>\n",
              "      <th>ISO_1</th>\n",
              "      <th>geometry</th>\n",
              "    </tr>\n",
              "  </thead>\n",
              "  <tbody>\n",
              "    <tr>\n",
              "      <th>0</th>\n",
              "      <td>NLD.1_1</td>\n",
              "      <td>NLD</td>\n",
              "      <td>Netherlands</td>\n",
              "      <td>Drenthe</td>\n",
              "      <td>NA</td>\n",
              "      <td>NA</td>\n",
              "      <td>Provincie</td>\n",
              "      <td>Province</td>\n",
              "      <td>NA</td>\n",
              "      <td>NL.DR</td>\n",
              "      <td>NL-DR</td>\n",
              "      <td>MULTIPOLYGON (((6.5237 52.6455, 6.5274 52.6148...</td>\n",
              "    </tr>\n",
              "    <tr>\n",
              "      <th>1</th>\n",
              "      <td>NLD.2_1</td>\n",
              "      <td>NLD</td>\n",
              "      <td>Netherlands</td>\n",
              "      <td>Flevoland</td>\n",
              "      <td>NA</td>\n",
              "      <td>NA</td>\n",
              "      <td>Provincie</td>\n",
              "      <td>Province</td>\n",
              "      <td>NA</td>\n",
              "      <td>NL.FL</td>\n",
              "      <td>NL-FL</td>\n",
              "      <td>MULTIPOLYGON (((5.3039 52.3125, 5.245 52.3294,...</td>\n",
              "    </tr>\n",
              "    <tr>\n",
              "      <th>2</th>\n",
              "      <td>NLD.3_1</td>\n",
              "      <td>NLD</td>\n",
              "      <td>Netherlands</td>\n",
              "      <td>Fryslân</td>\n",
              "      <td>Friesland</td>\n",
              "      <td>NA</td>\n",
              "      <td>Provincie</td>\n",
              "      <td>Province</td>\n",
              "      <td>NA</td>\n",
              "      <td>NL.FR</td>\n",
              "      <td>NL-FR</td>\n",
              "      <td>MULTIPOLYGON (((6.2392 52.9132, 6.2149 52.8909...</td>\n",
              "    </tr>\n",
              "    <tr>\n",
              "      <th>3</th>\n",
              "      <td>NLD.4_1</td>\n",
              "      <td>NLD</td>\n",
              "      <td>Netherlands</td>\n",
              "      <td>Gelderland</td>\n",
              "      <td>Geldern|Gheldria|Guelders|Gueldr</td>\n",
              "      <td>NA</td>\n",
              "      <td>Provincie</td>\n",
              "      <td>Province</td>\n",
              "      <td>NA</td>\n",
              "      <td>NL.GE</td>\n",
              "      <td>NL-GE</td>\n",
              "      <td>MULTIPOLYGON (((5.1358 51.7385, 5.1314 51.7394...</td>\n",
              "    </tr>\n",
              "    <tr>\n",
              "      <th>4</th>\n",
              "      <td>NLD.5_1</td>\n",
              "      <td>NLD</td>\n",
              "      <td>Netherlands</td>\n",
              "      <td>Groningen</td>\n",
              "      <td>Groninga|Groningue</td>\n",
              "      <td>NA</td>\n",
              "      <td>Provincie</td>\n",
              "      <td>Province</td>\n",
              "      <td>NA</td>\n",
              "      <td>NL.GR</td>\n",
              "      <td>NL-GR</td>\n",
              "      <td>MULTIPOLYGON (((6.9171 53.0116, 6.7468 53.1189...</td>\n",
              "    </tr>\n",
              "  </tbody>\n",
              "</table>\n",
              "</div>\n",
              "    <div class=\"colab-df-buttons\">\n",
              "\n",
              "  <div class=\"colab-df-container\">\n",
              "    <button class=\"colab-df-convert\" onclick=\"convertToInteractive('df-acc78d62-208e-4ac4-be71-d4c0fd9a9a59')\"\n",
              "            title=\"Convert this dataframe to an interactive table.\"\n",
              "            style=\"display:none;\">\n",
              "\n",
              "  <svg xmlns=\"http://www.w3.org/2000/svg\" height=\"24px\" viewBox=\"0 -960 960 960\">\n",
              "    <path d=\"M120-120v-720h720v720H120Zm60-500h600v-160H180v160Zm220 220h160v-160H400v160Zm0 220h160v-160H400v160ZM180-400h160v-160H180v160Zm440 0h160v-160H620v160ZM180-180h160v-160H180v160Zm440 0h160v-160H620v160Z\"/>\n",
              "  </svg>\n",
              "    </button>\n",
              "\n",
              "  <style>\n",
              "    .colab-df-container {\n",
              "      display:flex;\n",
              "      gap: 12px;\n",
              "    }\n",
              "\n",
              "    .colab-df-convert {\n",
              "      background-color: #E8F0FE;\n",
              "      border: none;\n",
              "      border-radius: 50%;\n",
              "      cursor: pointer;\n",
              "      display: none;\n",
              "      fill: #1967D2;\n",
              "      height: 32px;\n",
              "      padding: 0 0 0 0;\n",
              "      width: 32px;\n",
              "    }\n",
              "\n",
              "    .colab-df-convert:hover {\n",
              "      background-color: #E2EBFA;\n",
              "      box-shadow: 0px 1px 2px rgba(60, 64, 67, 0.3), 0px 1px 3px 1px rgba(60, 64, 67, 0.15);\n",
              "      fill: #174EA6;\n",
              "    }\n",
              "\n",
              "    .colab-df-buttons div {\n",
              "      margin-bottom: 4px;\n",
              "    }\n",
              "\n",
              "    [theme=dark] .colab-df-convert {\n",
              "      background-color: #3B4455;\n",
              "      fill: #D2E3FC;\n",
              "    }\n",
              "\n",
              "    [theme=dark] .colab-df-convert:hover {\n",
              "      background-color: #434B5C;\n",
              "      box-shadow: 0px 1px 3px 1px rgba(0, 0, 0, 0.15);\n",
              "      filter: drop-shadow(0px 1px 2px rgba(0, 0, 0, 0.3));\n",
              "      fill: #FFFFFF;\n",
              "    }\n",
              "  </style>\n",
              "\n",
              "    <script>\n",
              "      const buttonEl =\n",
              "        document.querySelector('#df-acc78d62-208e-4ac4-be71-d4c0fd9a9a59 button.colab-df-convert');\n",
              "      buttonEl.style.display =\n",
              "        google.colab.kernel.accessAllowed ? 'block' : 'none';\n",
              "\n",
              "      async function convertToInteractive(key) {\n",
              "        const element = document.querySelector('#df-acc78d62-208e-4ac4-be71-d4c0fd9a9a59');\n",
              "        const dataTable =\n",
              "          await google.colab.kernel.invokeFunction('convertToInteractive',\n",
              "                                                    [key], {});\n",
              "        if (!dataTable) return;\n",
              "\n",
              "        const docLinkHtml = 'Like what you see? Visit the ' +\n",
              "          '<a target=\"_blank\" href=https://colab.research.google.com/notebooks/data_table.ipynb>data table notebook</a>'\n",
              "          + ' to learn more about interactive tables.';\n",
              "        element.innerHTML = '';\n",
              "        dataTable['output_type'] = 'display_data';\n",
              "        await google.colab.output.renderOutput(dataTable, element);\n",
              "        const docLink = document.createElement('div');\n",
              "        docLink.innerHTML = docLinkHtml;\n",
              "        element.appendChild(docLink);\n",
              "      }\n",
              "    </script>\n",
              "  </div>\n",
              "\n",
              "\n",
              "    <div id=\"df-fa80d1c7-f60b-40bc-9d53-59046cda893d\">\n",
              "      <button class=\"colab-df-quickchart\" onclick=\"quickchart('df-fa80d1c7-f60b-40bc-9d53-59046cda893d')\"\n",
              "                title=\"Suggest charts\"\n",
              "                style=\"display:none;\">\n",
              "\n",
              "<svg xmlns=\"http://www.w3.org/2000/svg\" height=\"24px\"viewBox=\"0 0 24 24\"\n",
              "     width=\"24px\">\n",
              "    <g>\n",
              "        <path d=\"M19 3H5c-1.1 0-2 .9-2 2v14c0 1.1.9 2 2 2h14c1.1 0 2-.9 2-2V5c0-1.1-.9-2-2-2zM9 17H7v-7h2v7zm4 0h-2V7h2v10zm4 0h-2v-4h2v4z\"/>\n",
              "    </g>\n",
              "</svg>\n",
              "      </button>\n",
              "\n",
              "<style>\n",
              "  .colab-df-quickchart {\n",
              "      --bg-color: #E8F0FE;\n",
              "      --fill-color: #1967D2;\n",
              "      --hover-bg-color: #E2EBFA;\n",
              "      --hover-fill-color: #174EA6;\n",
              "      --disabled-fill-color: #AAA;\n",
              "      --disabled-bg-color: #DDD;\n",
              "  }\n",
              "\n",
              "  [theme=dark] .colab-df-quickchart {\n",
              "      --bg-color: #3B4455;\n",
              "      --fill-color: #D2E3FC;\n",
              "      --hover-bg-color: #434B5C;\n",
              "      --hover-fill-color: #FFFFFF;\n",
              "      --disabled-bg-color: #3B4455;\n",
              "      --disabled-fill-color: #666;\n",
              "  }\n",
              "\n",
              "  .colab-df-quickchart {\n",
              "    background-color: var(--bg-color);\n",
              "    border: none;\n",
              "    border-radius: 50%;\n",
              "    cursor: pointer;\n",
              "    display: none;\n",
              "    fill: var(--fill-color);\n",
              "    height: 32px;\n",
              "    padding: 0;\n",
              "    width: 32px;\n",
              "  }\n",
              "\n",
              "  .colab-df-quickchart:hover {\n",
              "    background-color: var(--hover-bg-color);\n",
              "    box-shadow: 0 1px 2px rgba(60, 64, 67, 0.3), 0 1px 3px 1px rgba(60, 64, 67, 0.15);\n",
              "    fill: var(--button-hover-fill-color);\n",
              "  }\n",
              "\n",
              "  .colab-df-quickchart-complete:disabled,\n",
              "  .colab-df-quickchart-complete:disabled:hover {\n",
              "    background-color: var(--disabled-bg-color);\n",
              "    fill: var(--disabled-fill-color);\n",
              "    box-shadow: none;\n",
              "  }\n",
              "\n",
              "  .colab-df-spinner {\n",
              "    border: 2px solid var(--fill-color);\n",
              "    border-color: transparent;\n",
              "    border-bottom-color: var(--fill-color);\n",
              "    animation:\n",
              "      spin 1s steps(1) infinite;\n",
              "  }\n",
              "\n",
              "  @keyframes spin {\n",
              "    0% {\n",
              "      border-color: transparent;\n",
              "      border-bottom-color: var(--fill-color);\n",
              "      border-left-color: var(--fill-color);\n",
              "    }\n",
              "    20% {\n",
              "      border-color: transparent;\n",
              "      border-left-color: var(--fill-color);\n",
              "      border-top-color: var(--fill-color);\n",
              "    }\n",
              "    30% {\n",
              "      border-color: transparent;\n",
              "      border-left-color: var(--fill-color);\n",
              "      border-top-color: var(--fill-color);\n",
              "      border-right-color: var(--fill-color);\n",
              "    }\n",
              "    40% {\n",
              "      border-color: transparent;\n",
              "      border-right-color: var(--fill-color);\n",
              "      border-top-color: var(--fill-color);\n",
              "    }\n",
              "    60% {\n",
              "      border-color: transparent;\n",
              "      border-right-color: var(--fill-color);\n",
              "    }\n",
              "    80% {\n",
              "      border-color: transparent;\n",
              "      border-right-color: var(--fill-color);\n",
              "      border-bottom-color: var(--fill-color);\n",
              "    }\n",
              "    90% {\n",
              "      border-color: transparent;\n",
              "      border-bottom-color: var(--fill-color);\n",
              "    }\n",
              "  }\n",
              "</style>\n",
              "\n",
              "      <script>\n",
              "        async function quickchart(key) {\n",
              "          const quickchartButtonEl =\n",
              "            document.querySelector('#' + key + ' button');\n",
              "          quickchartButtonEl.disabled = true;  // To prevent multiple clicks.\n",
              "          quickchartButtonEl.classList.add('colab-df-spinner');\n",
              "          try {\n",
              "            const charts = await google.colab.kernel.invokeFunction(\n",
              "                'suggestCharts', [key], {});\n",
              "          } catch (error) {\n",
              "            console.error('Error during call to suggestCharts:', error);\n",
              "          }\n",
              "          quickchartButtonEl.classList.remove('colab-df-spinner');\n",
              "          quickchartButtonEl.classList.add('colab-df-quickchart-complete');\n",
              "        }\n",
              "        (() => {\n",
              "          let quickchartButtonEl =\n",
              "            document.querySelector('#df-fa80d1c7-f60b-40bc-9d53-59046cda893d button');\n",
              "          quickchartButtonEl.style.display =\n",
              "            google.colab.kernel.accessAllowed ? 'block' : 'none';\n",
              "        })();\n",
              "      </script>\n",
              "    </div>\n",
              "\n",
              "    </div>\n",
              "  </div>\n"
            ],
            "application/vnd.google.colaboratory.intrinsic+json": {
              "type": "dataframe",
              "variable_name": "nl_provinces",
              "summary": "{\n  \"name\": \"nl_provinces\",\n  \"rows\": 14,\n  \"fields\": [\n    {\n      \"column\": \"GID_1\",\n      \"properties\": {\n        \"dtype\": \"string\",\n        \"num_unique_values\": 14,\n        \"samples\": [\n          \"NLD.10_1\",\n          \"NLD.12_1\",\n          \"NLD.1_1\"\n        ],\n        \"semantic_type\": \"\",\n        \"description\": \"\"\n      }\n    },\n    {\n      \"column\": \"GID_0\",\n      \"properties\": {\n        \"dtype\": \"category\",\n        \"num_unique_values\": 1,\n        \"samples\": [\n          \"NLD\"\n        ],\n        \"semantic_type\": \"\",\n        \"description\": \"\"\n      }\n    },\n    {\n      \"column\": \"COUNTRY\",\n      \"properties\": {\n        \"dtype\": \"category\",\n        \"num_unique_values\": 1,\n        \"samples\": [\n          \"Netherlands\"\n        ],\n        \"semantic_type\": \"\",\n        \"description\": \"\"\n      }\n    },\n    {\n      \"column\": \"NAME_1\",\n      \"properties\": {\n        \"dtype\": \"string\",\n        \"num_unique_values\": 14,\n        \"samples\": [\n          \"Overijssel\"\n        ],\n        \"semantic_type\": \"\",\n        \"description\": \"\"\n      }\n    },\n    {\n      \"column\": \"VARNAME_1\",\n      \"properties\": {\n        \"dtype\": \"string\",\n        \"num_unique_values\": 8,\n        \"samples\": [\n          \"Friesland\"\n        ],\n        \"semantic_type\": \"\",\n        \"description\": \"\"\n      }\n    },\n    {\n      \"column\": \"NL_NAME_1\",\n      \"properties\": {\n        \"dtype\": \"category\",\n        \"num_unique_values\": 1,\n        \"samples\": [\n          \"NA\"\n        ],\n        \"semantic_type\": \"\",\n        \"description\": \"\"\n      }\n    },\n    {\n      \"column\": \"TYPE_1\",\n      \"properties\": {\n        \"dtype\": \"category\",\n        \"num_unique_values\": 3,\n        \"samples\": [\n          \"Provincie\"\n        ],\n        \"semantic_type\": \"\",\n        \"description\": \"\"\n      }\n    },\n    {\n      \"column\": \"ENGTYPE_1\",\n      \"properties\": {\n        \"dtype\": \"category\",\n        \"num_unique_values\": 3,\n        \"samples\": [\n          \"Province\"\n        ],\n        \"semantic_type\": \"\",\n        \"description\": \"\"\n      }\n    },\n    {\n      \"column\": \"CC_1\",\n      \"properties\": {\n        \"dtype\": \"category\",\n        \"num_unique_values\": 1,\n        \"samples\": [\n          \"NA\"\n        ],\n        \"semantic_type\": \"\",\n        \"description\": \"\"\n      }\n    },\n    {\n      \"column\": \"HASC_1\",\n      \"properties\": {\n        \"dtype\": \"string\",\n        \"num_unique_values\": 12,\n        \"samples\": [\n          \"NL.UT\"\n        ],\n        \"semantic_type\": \"\",\n        \"description\": \"\"\n      }\n    },\n    {\n      \"column\": \"ISO_1\",\n      \"properties\": {\n        \"dtype\": \"string\",\n        \"num_unique_values\": 12,\n        \"samples\": [\n          \"NL-UT\"\n        ],\n        \"semantic_type\": \"\",\n        \"description\": \"\"\n      }\n    },\n    {\n      \"column\": \"geometry\",\n      \"properties\": {\n        \"dtype\": \"geometry\",\n        \"num_unique_values\": 14,\n        \"samples\": [\n          \"MULTIPOLYGON (((6.8731 52.1327, 6.8734 52.1302, 6.867 52.128, 6.8554 52.1204, 6.8213 52.1182, 6.7265 52.1192, 6.7076 52.1247, 6.6886 52.1267, 6.6726 52.1314, 6.6846 52.142, 6.6835 52.1564, 6.6851 52.16, 6.6824 52.1663, 6.6547 52.1755, 6.6501 52.1684, 6.6444 52.173, 6.64 52.1739, 6.6311 52.1695, 6.628 52.1659, 6.6221 52.1642, 6.6178 52.1651, 6.6135 52.1697, 6.6165 52.1741, 6.6006 52.1833, 6.5652 52.1782, 6.5213 52.1822, 6.5051 52.1779, 6.489 52.1834, 6.479 52.1933, 6.4791 52.1996, 6.466 52.2024, 6.4559 52.2133, 6.4386 52.2242, 6.4329 52.2332, 6.4256 52.2378, 6.4257 52.2432, 6.4199 52.2441, 6.3993 52.2434, 6.392 52.2452, 6.3905 52.247, 6.3758 52.2426, 6.3596 52.2428, 6.3506 52.2366, 6.3477 52.2366, 6.3475 52.2276, 6.3063 52.2261, 6.3049 52.2297, 6.302 52.2315, 6.28 52.229, 6.2799 52.2272, 6.2697 52.229, 6.2315 52.2293, 6.2227 52.2321, 6.2255 52.2267, 6.2109 52.2303, 6.1977 52.2295, 6.1904 52.2349, 6.1742 52.2315, 6.1712 52.2279, 6.177 52.2216, 6.1725 52.218, 6.1697 52.2243, 6.155 52.2289, 6.1492 52.2343, 6.1508 52.2388, 6.1626 52.245, 6.1612 52.2477, 6.1583 52.2495, 6.1524 52.2468, 6.1319 52.2523, 6.135 52.2621, 6.1321 52.264, 6.1293 52.273, 6.1205 52.2793, 6.1192 52.2892, 6.1134 52.2937, 6.1091 52.3018, 6.0988 52.3001, 6.0914 52.3019, 6.0872 52.3181, 6.074 52.3182, 6.074 52.3218, 6.0785 52.3226, 6.0846 52.3406, 6.0833 52.3513, 6.0863 52.3531, 6.0951 52.354, 6.1025 52.3575, 6.0982 52.3611, 6.085 52.3648, 6.088 52.372, 6.1294 52.3798, 6.1339 52.3861, 6.1326 52.3924, 6.1385 52.4004, 6.1268 52.4032, 6.1181 52.4086, 6.1226 52.4149, 6.1212 52.4203, 6.1257 52.4265, 6.1273 52.4328, 6.1097 52.4454, 6.1114 52.4544, 6.1101 52.4661, 6.1072 52.4706, 6.0969 52.4769, 6.0778 52.4833, 6.0705 52.4887, 6.0647 52.4977, 6.0617 52.4996, 6.0471 52.5068, 6.0353 52.5096, 6.0308 52.506, 6.019 52.506, 6.0145 52.5043, 5.9728 52.4766, 5.9655 52.4838, 5.9581 52.4839, 5.9447 52.4767, 5.9328 52.4741, 5.9154 52.4984, 5.8904 52.5191, 5.886 52.5218, 5.8831 52.5219, 5.8727 52.5192, 5.8683 52.5282, 5.8699 52.5318, 5.8655 52.5417, 5.8611 52.5453, 5.864 52.5461, 5.8626 52.5524, 5.8583 52.5578, 5.8494 52.5624, 5.8465 52.5696, 5.8421 52.575, 5.8377 52.5777, 5.82 52.5822, 5.7844 52.5832, 5.8259 52.5849, 5.8259 52.5867, 5.8333 52.5875, 5.8393 52.5857, 5.8423 52.5974, 5.8394 52.5974, 5.8394 52.601, 5.8469 52.6108, 5.896 52.6197, 5.8993 52.6173, 5.9063 52.6187, 5.9122 52.6178, 5.9107 52.6169, 5.9136 52.6151, 5.924 52.6124, 5.9329 52.6132, 5.9626 52.6212, 5.9642 52.6248, 5.9804 52.6229, 5.9938 52.6246, 5.9938 52.6273, 5.9968 52.6255, 6.0177 52.638, 6.0266 52.6353, 6.0296 52.6397, 6.0105 52.6533, 5.9912 52.657, 5.9738 52.6668, 5.9475 52.6701, 5.9425 52.6688, 5.9407 52.6747, 5.9559 52.6859, 5.9589 52.6851, 5.9694 52.6903, 5.9724 52.6938, 5.9726 52.6984, 5.9649 52.7042, 5.9589 52.712, 5.9489 52.7148, 5.9483 52.7186, 5.9287 52.7515, 5.9122 52.7615, 5.9052 52.7621, 5.8855 52.7733, 5.868 52.7805, 5.856 52.7841, 5.8247 52.7842, 5.8247 52.7878, 5.81 52.7968, 5.8011 52.8058, 5.816 52.8138, 5.8264 52.8173, 5.8264 52.8155, 5.8308 52.8128, 5.8398 52.811, 5.8427 52.8083, 5.8427 52.8056, 5.8665 52.8046, 5.8858 52.801, 5.8888 52.8037, 5.8993 52.8054, 5.9053 52.8081, 5.9068 52.8117, 5.9187 52.8152, 5.9218 52.8197, 5.9306 52.8232, 5.9293 52.8304, 5.9338 52.8331, 5.9532 52.8375, 5.9621 52.833, 5.9636 52.8339, 5.9622 52.8375, 5.9652 52.8393, 5.9788 52.8417, 5.983 52.8338, 5.9904 52.8266, 5.9933 52.8212, 5.9962 52.8212, 6.0051 52.8167, 6.0156 52.8202, 6.032 52.8219, 6.0378 52.8148, 6.0663 52.8262, 6.0619 52.8307, 6.059 52.837, 6.068 52.8388, 6.0874 52.8387, 6.0949 52.8431, 6.1263 52.8537, 6.1367 52.8474, 6.1381 52.8438, 6.1793 52.8148, 6.1883 52.8111, 6.2088 52.794, 6.2012 52.786, 6.1801 52.7727, 6.1756 52.7673, 6.1636 52.7629, 6.1338 52.7568, 6.1292 52.7541, 6.1277 52.7505, 6.1495 52.718, 6.1639 52.6929, 6.1772 52.6865, 6.1711 52.6794, 6.1904 52.6748, 6.1919 52.6774, 6.1875 52.682, 6.1935 52.6828, 6.1949 52.6801, 6.2008 52.6765, 6.2038 52.681, 6.2098 52.6845, 6.2262 52.6844, 6.2409 52.6789, 6.2513 52.6789, 6.2557 52.6761, 6.2572 52.6743, 6.2556 52.6726, 6.26 52.6698, 6.269 52.6707, 6.2778 52.6652, 6.2807 52.6652, 6.2853 52.6688, 6.2912 52.6687, 6.297 52.6633, 6.3029 52.6624, 6.306 52.6668, 6.3179 52.6667, 6.3239 52.6694, 6.3343 52.6702, 6.3371 52.6657, 6.3341 52.663, 6.3341 52.6594, 6.3723 52.643, 6.3722 52.6385, 6.3766 52.6358, 6.378 52.6322, 6.3838 52.6277, 6.3851 52.6169, 6.3939 52.6132, 6.3999 52.615, 6.4029 52.6176, 6.4118 52.6167, 6.4163 52.6184, 6.4148 52.6184, 6.4148 52.6211, 6.4178 52.622, 6.4222 52.6193, 6.4281 52.6192, 6.4297 52.6228, 6.4402 52.629, 6.4431 52.6272, 6.4416 52.6254, 6.4445 52.62, 6.4503 52.6164, 6.4621 52.6145, 6.4696 52.6162, 6.4712 52.6216, 6.4742 52.6242, 6.4787 52.6251, 6.4816 52.6242, 6.4816 52.6215, 6.4889 52.6187, 6.4993 52.6195, 6.5141 52.6176, 6.5214 52.614, 6.5274 52.6148, 6.5237 52.6471, 6.5613 52.6657, 6.6209 52.6741, 6.7181 52.6489, 6.7135 52.6435, 6.7134 52.6417, 6.7164 52.6399, 6.7147 52.6336, 6.7131 52.631, 6.7101 52.6301, 6.7101 52.6283, 6.7113 52.6283, 6.7101 52.6273, 6.7143 52.6268, 6.7247 52.6189, 6.7271 52.6151, 6.7187 52.5887, 6.7667 52.5635, 6.7666 52.5615, 6.7523 52.5591, 6.7405 52.562, 6.7262 52.5632, 6.721 52.5533, 6.7163 52.5504, 6.7161 52.5486, 6.6809 52.5533, 6.7054 52.5203, 6.6977 52.4863, 6.7205 52.4771, 6.7239 52.477, 6.7531 52.4638, 6.7746 52.4596, 6.8543 52.4596, 6.8526 52.4499, 6.8619 52.4514, 6.9417 52.4355, 6.948 52.4369, 6.9618 52.4436, 6.9776 52.4655, 6.9879 52.4695, 6.994 52.4655, 6.9945 52.4621, 7.0056 52.4441, 7.0109 52.4291, 7.0221 52.4227, 7.0358 52.4025, 7.0516 52.3999, 7.0555 52.401, 7.0588 52.3993, 7.0586 52.396, 7.0643 52.3897, 7.0722 52.3734, 7.0722 52.3523, 7.0564 52.3381, 7.0556 52.3322, 7.0471 52.3239, 7.0481 52.32, 7.0468 52.3162, 7.0388 52.3124, 7.0413 52.3112, 7.0267 52.2922, 7.0264 52.2896, 7.0264 52.2866, 7.0295 52.2812, 7.0275 52.2776, 7.0288 52.2735, 7.0318 52.2719, 7.0424 52.2561, 7.0659 52.2413, 7.061 52.2348, 7.039 52.2276, 7.0265 52.2257, 7.0192 52.225, 7.0035 52.2285, 6.9851 52.2253, 6.9856 52.2234, 6.9811 52.2207, 6.9784 52.2116, 6.9742 52.2052, 6.9623 52.1943, 6.9622 52.1911, 6.9513 52.181, 6.9082 52.176, 6.9058 52.1738, 6.9058 52.17, 6.8804 52.156, 6.882 52.1559, 6.8731 52.1327)))\"\n        ],\n        \"semantic_type\": \"\",\n        \"description\": \"\"\n      }\n    }\n  ]\n}"
            }
          },
          "metadata": {},
          "execution_count": 4
        }
      ]
    },
    {
      "cell_type": "code",
      "source": [
        "from shapely.geometry import box\n",
        "## Narrow down GEDI data\n",
        "# 1. Get the total bounding box of Dutch borders\n",
        "minx, miny, maxx, maxy = nl_provinces.total_bounds\n",
        "bbox = box(minx, miny, maxx, maxy)\n",
        "\n",
        "# 2. Filter GEDI STAC items  by intersection with bbox\n",
        "gedi_nl = gedi_items[gedi_items.intersects(bbox)]"
      ],
      "metadata": {
        "id": "BrecnomEbPmm"
      },
      "execution_count": 5,
      "outputs": []
    },
    {
      "cell_type": "code",
      "source": [
        "# get all the urls from the target stac items\n",
        "urls=[i for i in gedi_nl.asset_file]\n",
        "print(urls)"
      ],
      "metadata": {
        "colab": {
          "base_uri": "https://localhost:8080/"
        },
        "id": "rdfjOStvbc1b",
        "outputId": "2f2597fd-9172-4fb9-9dbc-0c38c1e5d267"
      },
      "execution_count": 6,
      "outputs": [
        {
          "output_type": "stream",
          "name": "stdout",
          "text": [
            "['https://s3.opengeohub.org/global/glidar/gedi-ard/level2/l2v002.gedi_20190418_20230316_go_epsg.4326_v20240827/lon=0/lat=50/year=2019/gedi_l2ab.parquet', 'https://s3.opengeohub.org/global/glidar/gedi-ard/level2/l2v002.gedi_20190418_20230316_go_epsg.4326_v20240827/lon=0/lat=50/year=2020/gedi_l2ab.parquet', 'https://s3.opengeohub.org/global/glidar/gedi-ard/level2/l2v002.gedi_20190418_20230316_go_epsg.4326_v20240827/lon=0/lat=50/year=2021/gedi_l2ab.parquet', 'https://s3.opengeohub.org/global/glidar/gedi-ard/level2/l2v002.gedi_20190418_20230316_go_epsg.4326_v20240827/lon=0/lat=50/year=2022/gedi_l2ab.parquet', 'https://s3.opengeohub.org/global/glidar/gedi-ard/level2/l2v002.gedi_20190418_20230316_go_epsg.4326_v20240827/lon=0/lat=50/year=2023/gedi_l2ab.parquet', 'https://s3.opengeohub.org/global/glidar/gedi-ard/level2/l2v002.gedi_20190418_20230316_go_epsg.4326_v20240827/lon=5/lat=50/year=2019/gedi_l2ab.parquet', 'https://s3.opengeohub.org/global/glidar/gedi-ard/level2/l2v002.gedi_20190418_20230316_go_epsg.4326_v20240827/lon=5/lat=50/year=2020/gedi_l2ab.parquet', 'https://s3.opengeohub.org/global/glidar/gedi-ard/level2/l2v002.gedi_20190418_20230316_go_epsg.4326_v20240827/lon=5/lat=50/year=2021/gedi_l2ab.parquet', 'https://s3.opengeohub.org/global/glidar/gedi-ard/level2/l2v002.gedi_20190418_20230316_go_epsg.4326_v20240827/lon=5/lat=50/year=2022/gedi_l2ab.parquet', 'https://s3.opengeohub.org/global/glidar/gedi-ard/level2/l2v002.gedi_20190418_20230316_go_epsg.4326_v20240827/lon=5/lat=50/year=2023/gedi_l2ab.parquet']\n"
          ]
        }
      ]
    },
    {
      "cell_type": "code",
      "source": [
        "# Retrieve OLM-GEDI where\n",
        "## - data falls within overlapped OLM-GEDI tiles\n",
        "## - sensitivity is greater than 97 (scale = 100)\n",
        "import duckdb\n",
        "import time\n",
        "start_time  = time.time()\n",
        "urls=[i for i in gedi_nl.asset_file]\n",
        "df_duckdb = duckdb.sql(f\"\"\"\n",
        "                        INSTALL httpfs;\n",
        "                        LOAD httpfs;\n",
        "                        INSTALL spatial;\n",
        "                        LOAD spatial;\n",
        "                        SELECT rh98, latitude, longitude\n",
        "                        FROM read_parquet({urls})\n",
        "                        WHERE longitude BETWEEN {minx} AND {maxx}\n",
        "                            AND latitude BETWEEN {miny} AND {maxy}\n",
        "                            AND sensitivity > 9700;\n",
        "\n",
        "                        \"\"\")\n",
        "gedi_points = df_duckdb.df()\n",
        "print(f\"--- %s seconds ---\" % (time.time() - start_time))"
      ],
      "metadata": {
        "colab": {
          "base_uri": "https://localhost:8080/",
          "height": 66,
          "referenced_widgets": [
            "cd2e9ce596cb421998495e8824493e9d",
            "d845c45de04d4f32b6a7e7df8fe5473c",
            "6e75e14af02748c0a393e3dd0067790e"
          ]
        },
        "id": "9CbQNSV9bHJd",
        "outputId": "c99cdd23-e4c7-422a-b36a-c7dc27d56390"
      },
      "execution_count": 7,
      "outputs": [
        {
          "output_type": "display_data",
          "data": {
            "text/plain": [
              "FloatProgress(value=0.0, layout=Layout(width='auto'), style=ProgressStyle(bar_color='black'))"
            ],
            "application/vnd.jupyter.widget-view+json": {
              "version_major": 2,
              "version_minor": 0,
              "model_id": "cd2e9ce596cb421998495e8824493e9d"
            }
          },
          "metadata": {}
        },
        {
          "output_type": "stream",
          "name": "stdout",
          "text": [
            "--- 41.33479571342468 seconds ---\n"
          ]
        }
      ]
    },
    {
      "cell_type": "code",
      "source": [
        "# Convert to GeoPandas and export random 5000 points for inspection\n",
        "gdf = gpd.GeoDataFrame(\n",
        "    gedi_points, geometry=gpd.points_from_xy(gedi_points['longitude'], gedi_points['latitude']))\n",
        "gdf.sample(5000).to_file('gedi_sample500_nl.geojson')"
      ],
      "metadata": {
        "colab": {
          "base_uri": "https://localhost:8080/"
        },
        "id": "5GEAkALQeS4k",
        "outputId": "549c28c6-770e-48f6-ba05-df11ff4eec3e"
      },
      "execution_count": 8,
      "outputs": [
        {
          "output_type": "stream",
          "name": "stderr",
          "text": [
            "/usr/local/lib/python3.12/dist-packages/pyogrio/geopandas.py:710: UserWarning: 'crs' was not provided.  The output dataset will not have projection information defined and may not be usable in other systems.\n",
            "  write(\n"
          ]
        }
      ]
    },
    {
      "cell_type": "code",
      "source": [
        "# Download overlay raster layer information\n",
        "! wget https://s3.eu-central-1.wasabisys.com/ogh/faen/covs_nl_canopy_height.csv"
      ],
      "metadata": {
        "colab": {
          "base_uri": "https://localhost:8080/"
        },
        "id": "foAaDoVvgrEb",
        "outputId": "8627256b-4e8e-4585-b36c-0437ec75806f"
      },
      "execution_count": 10,
      "outputs": [
        {
          "output_type": "stream",
          "name": "stdout",
          "text": [
            "--2025-08-29 16:32:50--  https://s3.eu-central-1.wasabisys.com/ogh/faen/covs_nl_canopy_height.csv\n",
            "Resolving s3.eu-central-1.wasabisys.com (s3.eu-central-1.wasabisys.com)... 130.117.252.103, 130.117.252.107, 130.117.252.102, ...\n",
            "Connecting to s3.eu-central-1.wasabisys.com (s3.eu-central-1.wasabisys.com)|130.117.252.103|:443... connected.\n",
            "HTTP request sent, awaiting response... 200 OK\n",
            "Length: 1736 (1.7K) [text/csv]\n",
            "Saving to: ‘covs_nl_canopy_height.csv.2’\n",
            "\n",
            "covs_nl_canopy_heig 100%[===================>]   1.70K  --.-KB/s    in 0s      \n",
            "\n",
            "2025-08-29 16:32:51 (560 MB/s) - ‘covs_nl_canopy_height.csv.2’ saved [1736/1736]\n",
            "\n"
          ]
        }
      ]
    },
    {
      "cell_type": "code",
      "source": [
        "# Create the catalog object from the csv for auxiliary data overlay\n",
        "from skmap.catalog import DataCatalog\n",
        "from minio import Minio\n",
        "catalog_path = 'covs_nl_canopy_height.csv'\n",
        "base_path = 'https://s3.opengeohub.org'\n",
        "json_out_path = 'nl_canopy_height.json'\n",
        "catalog = DataCatalog.create_catalog(catalog_def=catalog_path, years=[], base_path=base_path)\n",
        "catalog.save_json(json_out_path)"
      ],
      "metadata": {
        "id": "iFFtWFmFfNqX"
      },
      "execution_count": 11,
      "outputs": []
    },
    {
      "cell_type": "code",
      "source": [
        "# Inpect the catalog, and create thread number info to match the parallel optimization\n",
        "n_threads=len(catalog.data['common'])\n",
        "print(catalog.data)"
      ],
      "metadata": {
        "colab": {
          "base_uri": "https://localhost:8080/"
        },
        "id": "4X8j5DBDg7y1",
        "outputId": "343f675d-3d10-4403-b820-2cf71adaa793"
      },
      "execution_count": 12,
      "outputs": [
        {
          "output_type": "stream",
          "name": "stdout",
          "text": [
            "{'common': {'gedtm_rf_m_30m_s_20060101_20151231_go_epsg.4326.3855_v20250611': {'path': 'https://s3.opengeohub.org/global/edtm/gedtm_rf_m_30m_s_20060101_20151231_go_epsg.4326.3855_v20250611.tif', 'idx': 0}, 'geoid_eigen_gfz': {'path': 'https://s3.opengeohub.org/global/edtm/geoid_eigen_gfz.tif', 'idx': 1}, 'surface.water_jrc.gswe_p_30m_s_2000_2018_go_epsg.4326_v01232022': {'path': 'https://s3.opengeohub.org/global/edtm/surface.water_jrc.gswe_p_30m_s_2000_2018_go_epsg.4326_v01232022.tif', 'idx': 2}, 'lc_glad.glcluc.change_c_30m_s_20000101_20201231_go_epsg.4326_v20230901': {'path': 'https://s3.opengeohub.org/global/lc/lc_glad.glcluc.change_c_30m_s_20000101_20201231_go_epsg.4326_v20230901.tif', 'idx': 3}, 'canopy.height_glad.umd_m_30m_s_2017_2018_go_epsg.4326_v01242022': {'path': 'https://s3.opengeohub.org/global/edtm/canopy.height_glad.umd_m_30m_s_2017_2018_go_epsg.4326_v01242022.tif', 'idx': 4}, 'canopy.height_eth_m_30m_s_20000101_20230101_go_epsg.4326_v01242022': {'path': 'https://s3.opengeohub.org/global/edtm/canopy.height_eth_m_30m_s_20000101_20230101_go_epsg.4326_v01242022.tif', 'idx': 5}, 'tree.cover_glad.umd_m_30m_s_20100101_20151231_go_epsg.4326_v1.0': {'path': 'https://s3.opengeohub.org/global/edtm/tree.cover_glad.umd_m_30m_s_20100101_20151231_go_epsg.4326_v1.0.tif', 'idx': 6}, 'lc_esa.worldcover_c_10m_s_20210101_20211231_go_epsg.4326_v20240901': {'path': 'https://s3.opengeohub.org/global/lc/lc_esa.worldcover_c_10m_s_20210101_20211231_go_epsg.4326_v20240901.tif', 'idx': 7}}}\n"
          ]
        }
      ]
    },
    {
      "cell_type": "code",
      "source": [
        "GDAL_OPTS = {'GDAL_HTTP_VERSION': '1.0', 'CPL_VSIL_CURL_ALLOWED_EXTENSIONS': '.tif'}\n",
        "max_ram_mb = 1200"
      ],
      "metadata": {
        "id": "FzAYb18TjV0o"
      },
      "execution_count": 13,
      "outputs": []
    },
    {
      "cell_type": "code",
      "source": [
        "# Run the overlay\n",
        "from skmap.overlay import SpaceOverlay\n",
        "start = time.time()\n",
        "space_overlay = SpaceOverlay(\n",
        "        points=gdf,\n",
        "        catalog=catalog,\n",
        "        verbose=True,\n",
        "        n_threads=n_threads)\n",
        "print(f\"Extraction of overlay meta-data: {(time.time() - start):.2f} s\")\n",
        "start = time.time()\n",
        "ovelayed_data = space_overlay.run(gdal_opts=GDAL_OPTS, max_ram_mb=max_ram_mb, out_file_name=\"overlay_gedi.pq\")\n",
        "print(f\"Reading overlayed layers: {(time.time() - start):.2f} s\")"
      ],
      "metadata": {
        "colab": {
          "base_uri": "https://localhost:8080/",
          "height": 211
        },
        "id": "m4nmMfEuhQI2",
        "outputId": "b784e35a-ebe8-463c-d9d7-7029e8be6d3f"
      },
      "execution_count": 2,
      "outputs": [
        {
          "output_type": "error",
          "ename": "NameError",
          "evalue": "name 'time' is not defined",
          "traceback": [
            "\u001b[0;31m---------------------------------------------------------------------------\u001b[0m",
            "\u001b[0;31mNameError\u001b[0m                                 Traceback (most recent call last)",
            "\u001b[0;32m/tmp/ipython-input-3254877040.py\u001b[0m in \u001b[0;36m<cell line: 0>\u001b[0;34m()\u001b[0m\n\u001b[1;32m      1\u001b[0m \u001b[0;31m# Run the overlay\u001b[0m\u001b[0;34m\u001b[0m\u001b[0;34m\u001b[0m\u001b[0m\n\u001b[1;32m      2\u001b[0m \u001b[0;32mfrom\u001b[0m \u001b[0mskmap\u001b[0m\u001b[0;34m.\u001b[0m\u001b[0moverlay\u001b[0m \u001b[0;32mimport\u001b[0m \u001b[0mSpaceOverlay\u001b[0m\u001b[0;34m\u001b[0m\u001b[0;34m\u001b[0m\u001b[0m\n\u001b[0;32m----> 3\u001b[0;31m \u001b[0mstart\u001b[0m \u001b[0;34m=\u001b[0m \u001b[0mtime\u001b[0m\u001b[0;34m.\u001b[0m\u001b[0mtime\u001b[0m\u001b[0;34m(\u001b[0m\u001b[0;34m)\u001b[0m\u001b[0;34m\u001b[0m\u001b[0;34m\u001b[0m\u001b[0m\n\u001b[0m\u001b[1;32m      4\u001b[0m space_overlay = SpaceOverlay(\n\u001b[1;32m      5\u001b[0m         \u001b[0mpoints\u001b[0m\u001b[0;34m=\u001b[0m\u001b[0mgdf\u001b[0m\u001b[0;34m,\u001b[0m\u001b[0;34m\u001b[0m\u001b[0;34m\u001b[0m\u001b[0m\n",
            "\u001b[0;31mNameError\u001b[0m: name 'time' is not defined"
          ]
        }
      ]
    },
    {
      "cell_type": "code",
      "source": [
        "# Inspection on overlaid data\n",
        "ovelayed_data.head()\n",
        "print(ovelayed_data.columns)"
      ],
      "metadata": {
        "colab": {
          "base_uri": "https://localhost:8080/",
          "height": 176
        },
        "id": "hbdnHc-phhYq",
        "outputId": "6d5ca1b1-d1eb-44ca-bd1a-8863c6940be5"
      },
      "execution_count": 1,
      "outputs": [
        {
          "output_type": "error",
          "ename": "NameError",
          "evalue": "name 'ovelayed_data' is not defined",
          "traceback": [
            "\u001b[0;31m---------------------------------------------------------------------------\u001b[0m",
            "\u001b[0;31mNameError\u001b[0m                                 Traceback (most recent call last)",
            "\u001b[0;32m/tmp/ipython-input-4074586165.py\u001b[0m in \u001b[0;36m<cell line: 0>\u001b[0;34m()\u001b[0m\n\u001b[1;32m      1\u001b[0m \u001b[0;31m# Inspection on overlaid data\u001b[0m\u001b[0;34m\u001b[0m\u001b[0;34m\u001b[0m\u001b[0m\n\u001b[0;32m----> 2\u001b[0;31m \u001b[0movelayed_data\u001b[0m\u001b[0;34m.\u001b[0m\u001b[0mhead\u001b[0m\u001b[0;34m(\u001b[0m\u001b[0;34m)\u001b[0m\u001b[0;34m\u001b[0m\u001b[0;34m\u001b[0m\u001b[0m\n\u001b[0m\u001b[1;32m      3\u001b[0m \u001b[0mprint\u001b[0m\u001b[0;34m(\u001b[0m\u001b[0movelayed_data\u001b[0m\u001b[0;34m.\u001b[0m\u001b[0mcolumns\u001b[0m\u001b[0;34m)\u001b[0m\u001b[0;34m\u001b[0m\u001b[0;34m\u001b[0m\u001b[0m\n",
            "\u001b[0;31mNameError\u001b[0m: name 'ovelayed_data' is not defined"
          ]
        }
      ]
    },
    {
      "cell_type": "code",
      "source": [
        "# Filtering of overlayed_data\n",
        "### 1. remove gedi point that has possibility to fall on water surface (https://global-surface-water.appspot.com/)\n",
        "o1=ovelayed_data[ovelayed_data['surface.water_jrc.gswe_p_30m_s_2000_2018_go_epsg.4326_v01232022']==0]"
      ],
      "metadata": {
        "id": "7CSyM6YZj2ZI"
      },
      "execution_count": null,
      "outputs": []
    },
    {
      "cell_type": "code",
      "source": [
        "# Inspetion on GEDI terrain hieght with associated DTM model\n",
        "gedi_dtm=o1.elev_lowestmode*0.01 - o1.geoid_eigen_gfz # correction to EGM2008 (https://dataservices.gfz-potsdam.de/icgem/showshort.php?id=escidoc:1119897)\n",
        "edtm=o1['gedtm_rf_m_30m_s_20060101_20151231_go_epsg.4326.3855_v20250611']*0.1 # rescale EDTM from dm to m\n",
        "import matplotlib.pyplot as plt\n",
        "plt.scatter(\n",
        "    gedi_dtm, edtm,\n",
        "    s=60,                  # point size\n",
        "    c=\"dodgerblue\",        # point color\n",
        "    edgecolors=\"black\",    # outline\n",
        "    alpha=0.7              # transparency\n",
        ")\n",
        "\n",
        "plt.title(\"Scatterplot of Points in the Netherlands\", fontsize=14, weight=\"bold\")\n",
        "plt.xlabel(\"GEDI terrain height\", fontsize=12)\n",
        "plt.ylabel(\"EDTM terrain height\", fontsize=12)\n",
        "\n",
        "plt.grid(True, linestyle=\"--\", alpha=0.5)\n",
        "plt.show()"
      ],
      "metadata": {
        "id": "bgd41Idpj4pI"
      },
      "execution_count": null,
      "outputs": []
    },
    {
      "cell_type": "code",
      "source": [
        "# Filtering of overlayed_data\n",
        "### 2. remove gedi point where it has 20m difference from the terrain height (GEDTM: https://peerj.com/articles/19673/)\n",
        "o2 = o1[abs(gedi_dtm-edtm)<20]\n",
        "o2_gedi = o2.elev_lowestmode*0.01 - o2.geoid_eigen_gfz\n",
        "o2_edtm = o2['gedtm_rf_m_30m_s_20060101_20151231_go_epsg.4326.3855_v20250611']*0.1"
      ],
      "metadata": {
        "id": "6SNnu9bDj94T"
      },
      "execution_count": null,
      "outputs": []
    },
    {
      "cell_type": "code",
      "source": [
        "# Inspetion on GEDI terrain hieght with associated DTM model after filtering\n",
        "plt.scatter(\n",
        "    o2_gedi, o2_edtm,\n",
        "    s=60,                  # point size\n",
        "    c=\"dodgerblue\",        # point color\n",
        "    edgecolors=\"black\",    # outline\n",
        "    alpha=0.7              # transparency\n",
        ")\n",
        "\n",
        "plt.title(\"Scatterplot of Points in the Netherlands\", fontsize=14, weight=\"bold\")\n",
        "plt.xlabel(\"GEDI terrain height\", fontsize=12)\n",
        "plt.ylabel(\"EDTM terrain height\", fontsize=12)\n",
        "\n",
        "plt.grid(True, linestyle=\"--\", alpha=0.5)\n",
        "plt.show()"
      ],
      "metadata": {
        "id": "RmM1wy1lkA4-"
      },
      "execution_count": null,
      "outputs": []
    },
    {
      "cell_type": "code",
      "source": [
        "# Filtering of overlayed_data\n",
        "### 2. remove non-canpoy pixel\n",
        "import numpy as np\n",
        "o3=o2[~np.isnan(o2['canopy.height_eth_m_30m_s_20000101_20230101_go_epsg.4326_v01242022'])] # no canopy height info at ETH canopy height (https://gee-community-catalog.org/projects/canopy/)\n",
        "o4=o3[o3['lc_esa.worldcover_c_10m_s_20210101_20211231_go_epsg.4326_v20240901']==10] # not forest at ESA world cover (https://esa-worldcover.org/)"
      ],
      "metadata": {
        "id": "zkl0XHKokEDB"
      },
      "execution_count": null,
      "outputs": []
    },
    {
      "cell_type": "code",
      "source": [
        "# Stratification by tree cover and canopy height\n",
        "### - tree cover 0-10, 10-20, ..., 90-100\n",
        "### - tree height 0-5, 5-10, 10-15,... 45-50\n",
        "\n",
        "## 1. Create tree cover strata (10% bins)\n",
        "tree_bins = range(0, 101, 10)  # 0-10, 10-20, ...\n",
        "o4[\"tree_stratum\"] = pd.cut(o4[\"tree.cover_glad.umd_m_30m_s_20100101_20151231_go_epsg.4326_v1.0\"], bins=tree_bins, right=False)\n",
        "\n",
        "## 2. Create canopy height strata (5m bins)\n",
        "height_bins = range(0, 51, 5)  # 0-5, 5-10, ...\n",
        "o4[\"height_stratum\"] = pd.cut(o4[\"canopy.height_eth_m_30m_s_20000101_20230101_go_epsg.4326_v01242022\"], bins=height_bins, right=False)\n",
        "\n",
        "## 3. Combine both into one stratification column\n",
        "o4[\"stratum\"] = o4[\"tree_stratum\"].astype(str) + \" | \" + o4[\"height_stratum\"].astype(str)"
      ],
      "metadata": {
        "id": "bZN6k25KkH09"
      },
      "execution_count": null,
      "outputs": []
    },
    {
      "cell_type": "code",
      "source": [
        "## 4.Count the possible strata sample number\n",
        "stratified_counts = (\n",
        "    o4.groupby(\"stratum\", group_keys=False)\n",
        "      .apply(lambda x: len(x))\n",
        "      .reset_index(drop=True))"
      ],
      "metadata": {
        "id": "P_Pg2czpkJIx"
      },
      "execution_count": null,
      "outputs": []
    },
    {
      "cell_type": "code",
      "source": [
        "# Visualize the strata count distribution\n",
        "plt.hist(stratified_counts,bins=100)"
      ],
      "metadata": {
        "id": "6aZ3NBWskKTZ"
      },
      "execution_count": null,
      "outputs": []
    },
    {
      "cell_type": "code",
      "source": [
        "# Assign a cap for stratum sample number\n",
        "n_per_stratum=int(np.median(stratified_counts))\n",
        "n_per_stratum"
      ],
      "metadata": {
        "id": "r0k6ObI7kLgz"
      },
      "execution_count": null,
      "outputs": []
    },
    {
      "cell_type": "code",
      "source": [
        "# Stratification\n",
        "stratified_sample = (\n",
        "    o4.groupby(\"stratum\", group_keys=False)\n",
        "      .apply(lambda x: x.sample(n_per_stratum, random_state=1) if len(x)>n_per_stratum else x)\n",
        "      .reset_index(drop=True)\n",
        ")"
      ],
      "metadata": {
        "id": "tt4t3AkWkMf4"
      },
      "execution_count": null,
      "outputs": []
    },
    {
      "cell_type": "code",
      "source": [
        "# Inspection on strata\n",
        "stratified_sample.groupby(\"stratum\", group_keys=False).count()"
      ],
      "metadata": {
        "id": "6G4mncdSkNnb"
      },
      "execution_count": null,
      "outputs": []
    },
    {
      "cell_type": "code",
      "source": [
        "# Wrap up to GeoPandas and export to GeoJSON\n",
        "gdf=gpd.GeoDataFrame(\n",
        "    stratified_sample, geometry=gpd.points_from_xy(stratified_sample['longitude'], stratified_sample['latitude']))\n",
        "gdf[['rh98','longitude','latitude','geometry']].to_file('gedi_can_sampling.geojson')"
      ],
      "metadata": {
        "id": "LIdUwHwqkOtz"
      },
      "execution_count": null,
      "outputs": []
    },
    {
      "cell_type": "code",
      "source": [],
      "metadata": {
        "id": "d0-1mUAbueTs"
      },
      "execution_count": null,
      "outputs": []
    },
    {
      "cell_type": "code",
      "source": [
        "# Create the catalog object from the csv for embedding overlay\n",
        "from skmap.catalog import DataCatalog\n",
        "from minio import Minio\n",
        "catalog_path = 'embedding.csv'\n",
        "base_path = 'https://s3.opengeohub.org'\n",
        "json_out_path = 'embedding.json'\n",
        "catalog = DataCatalog.create_catalog(catalog_def=catalog_path, years=[], base_path=base_path)\n",
        "catalog.save_json(json_out_path)"
      ],
      "metadata": {
        "id": "CwJ4XrNQt7fa"
      },
      "execution_count": null,
      "outputs": []
    },
    {
      "cell_type": "code",
      "source": [
        "# Run the overlay\n",
        "from skmap.overlay import SpaceOverlay\n",
        "start = time.time()\n",
        "space_overlay = SpaceOverlay(\n",
        "        points=gdf,\n",
        "        catalog=catalog,\n",
        "        verbose=True,\n",
        "        n_threads=n_threads)\n",
        "print(f\"Extraction of overlay meta-data: {(time.time() - start):.2f} s\")\n",
        "start = time.time()\n",
        "ovelayed_data = space_overlay.run(gdal_opts=GDAL_OPTS, max_ram_mb=max_ram_mb, out_file_name=\"overlay_gedi.pq\")\n",
        "print(f\"Reading overlayed layers: {(time.time() - start):.2f} s\")"
      ],
      "metadata": {
        "id": "aVcVkAtmuHbJ"
      },
      "execution_count": null,
      "outputs": []
    },
    {
      "cell_type": "code",
      "source": [
        "ovelayed_data.to_csv('nl_embedding_gedi_canopy_height.csv')"
      ],
      "metadata": {
        "id": "VBFdT5qCuHUB"
      },
      "execution_count": null,
      "outputs": []
    }
  ]
}