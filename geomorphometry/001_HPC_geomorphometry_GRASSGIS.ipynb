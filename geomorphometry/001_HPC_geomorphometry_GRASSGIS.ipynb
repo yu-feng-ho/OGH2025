{
 "cells": [
  {
   "cell_type": "markdown",
   "metadata": {
    "id": "JMVaYs_WPpk6"
   },
   "source": [
    "Install GRASSGIS, Rasterio, grass-session in order to run GRASS in jupternotebook Python Environment."
   ]
  },
  {
   "cell_type": "code",
   "execution_count": null,
   "metadata": {
    "id": "32pzT0fnwfeF"
   },
   "outputs": [],
   "source": [
    "!add-apt-repository -y ppa:ubuntugis/ubuntugis-unstable\n",
    "!apt update\n",
    "!apt-get install -y grass-core grass-dev"
   ]
  },
  {
   "cell_type": "code",
   "execution_count": null,
   "metadata": {
    "id": "zCbMA_TA6znk"
   },
   "outputs": [],
   "source": [
    "!grass --version"
   ]
  },
  {
   "cell_type": "code",
   "execution_count": null,
   "metadata": {
    "id": "OkvR_9xX9g0M"
   },
   "outputs": [],
   "source": [
    "!pip install rasterio"
   ]
  },
  {
   "cell_type": "code",
   "execution_count": null,
   "metadata": {
    "id": "K1DlUL1EK8dw"
   },
   "outputs": [],
   "source": [
    "!pip install grass-session"
   ]
  },
  {
   "cell_type": "code",
   "execution_count": null,
   "metadata": {
    "id": "znDunYASK02f"
   },
   "outputs": [],
   "source": [
    "from grass_session import Session"
   ]
  },
  {
   "cell_type": "code",
   "execution_count": null,
   "metadata": {
    "id": "eJkXxlG76_VF"
   },
   "outputs": [],
   "source": [
    "# Import standard Python packages we need\n",
    "import sys\n",
    "import subprocess\n",
    "\n",
    "# Ask GRASS where its Python packages are to be able to run it from the notebook\n",
    "sys.path.append(\n",
    "    subprocess.check_output([\"grass\", \"--config\", \"python_path\"], text=True).strip()\n",
    ")"
   ]
  },
  {
   "cell_type": "markdown",
   "metadata": {
    "id": "ke5pu1JZ7S_3"
   },
   "source": [
    "Warp/Crop [GEDTM30](https://github.com/openlandmap/GEDTM30) into small area. We sent a single URL which points to a remote file (~300GB). With lazy loading, we are able to load small chunk and save to local."
   ]
  },
  {
   "cell_type": "code",
   "execution_count": null,
   "metadata": {
    "id": "C7FJTsey8c8a"
   },
   "outputs": [],
   "source": [
    "import rasterio\n",
    "from rasterio.windows import from_bounds\n",
    "\n",
    "gedtm30='https://s3.opengeohub.org/global/edtm/gedtm_rf_m_30m_s_20060101_20151231_go_epsg.4326.3855_v1.2.tif'\n",
    "tmp_dtm_rls_file='gedtm30_tw.tif'\n",
    "# Bounding box (minx, miny, maxx, maxy)\n",
    "bbox = (119.25, 21.53, 121.48, 23.23)\n",
    "\n",
    "with rasterio.open(gedtm30) as src:\n",
    "    window = from_bounds(*bbox, src.transform)\n",
    "    out_image = src.read(window=window)\n",
    "    out_transform = src.window_transform(window)\n",
    "    out_meta = src.meta.copy()\n",
    "\n",
    "out_meta.update({\n",
    "    \"driver\": \"GTiff\",\n",
    "    \"height\": out_image.shape[1],\n",
    "    \"width\": out_image.shape[2],\n",
    "    \"transform\": out_transform\n",
    "})\n",
    "\n",
    "with rasterio.open(\"gedtm30_tw.tif\", \"w\", **out_meta) as dest:\n",
    "    dest.write(out_image)"
   ]
  },
  {
   "cell_type": "markdown",
   "metadata": {
    "id": "nchGRdeQOcPv"
   },
   "source": [
    "[GRASS GIS (8.4.1 Released)](https://grass.osgeo.org/news/2025_03_02_grass_gis_8_4_1_released/) in a nutshell is a computational engine for raster, vector, and geospatial processing."
   ]
  },
  {
   "cell_type": "code",
   "execution_count": null,
   "metadata": {
    "id": "n_KwlLSlEW_m"
   },
   "outputs": [],
   "source": [
    "# Import the GRASS packages\n",
    "import grass.script as gs\n",
    "import grass.jupyter as gj\n",
    "gs.create_project(\"OGH2025\")"
   ]
  },
  {
   "cell_type": "code",
   "execution_count": null,
   "metadata": {
    "id": "2MX4G8EBMFL7"
   },
   "outputs": [],
   "source": [
    "import time\n",
    "import shutil\n",
    "import os\n",
    "tmp_path='/tmp/grassdata'\n",
    "start_time = time.time()\n",
    "# 🚨 delete old location if it exists\n",
    "if os.path.exists(tmp_path):\n",
    "    shutil.rmtree(tmp_path)\n",
    "\n",
    "tmp_twi_file  = tmp_dtm_rls_file.replace('.tif','_twi.tif')\n",
    "## INPUT DEM for grass\n",
    "# 1. Start a location in EPSG:4326\n",
    "with Session(gisdb=tmp_path, location=\"temp\", create_opts=\"EPSG:4326\"):\n",
    "    start_time = time.time()\n",
    "    gs.run_command(\"r.in.gdal\", flags='o',overwrite=True,\n",
    "                   input=tmp_dtm_rls_file,\n",
    "                   output=f\"dmDLSM_30\")\n",
    "    gs.run_command(\"g.region\",\n",
    "                   raster=f\"dmDLSM_30\",\n",
    "                   flags='p')\n",
    "    print(f\"read raster--- %s seconds ---\" % (time.time() - start_time))\n",
    "\n",
    "    start_time = time.time()\n",
    "    # recale\n",
    "    gs.mapcalc(\"mDLSM_30  = dmDLSM_30 * 0.1\", overwrite=True)\n",
    "    print(f\"rescale--- %s seconds ---\" % (time.time() - start_time))\n",
    "\n",
    "    start_time = time.time()\n",
    "    # apply guassian filter\n",
    "    ## weight factor: sigma factor of gaussian\n",
    "    gs.run_command(\"r.neighbors\", input=\"mDLSM_30\", output=\"dem_filtered\",\n",
    "                   weighting_function=\"gaussian\", overwrite=True,\n",
    "                   weighting_factor=1 )\n",
    "    print(f\"gaussian filter--- %s seconds ---\" % (time.time() - start_time))\n",
    "\n",
    "    # fill the depression\n",
    "    gs.run_command(\"r.fill.dir\", input=\"dem_filtered\", output=\"dem_filled\", direction=\"flowdir\", overwrite=True)\n",
    "    print(f\"fill depression--- %s seconds ---\" % (time.time() - start_time))\n",
    "    start_time = time.time()\n",
    "    # Compute Topographic Wetness Index with r.watershed\n",
    "    gs.run_command(\"r.watershed\", elevation=\"dem_filled\", tci='twi', overwrite=True)\n",
    "\n",
    "    gs.run_command('r.out.gdal',overwrite=True,\n",
    "                    input='twi',\n",
    "                    output=tmp_twi_file)\n",
    "    print(f\"topographic wetness index--- %s seconds ---\" % (time.time() - start_time))"
   ]
  }
 ],
 "metadata": {
  "colab": {
   "provenance": []
  },
  "kernelspec": {
   "display_name": "Python 3",
   "name": "python3"
  },
  "language_info": {
   "name": "python"
  }
 },
 "nbformat": 4,
 "nbformat_minor": 0
}
