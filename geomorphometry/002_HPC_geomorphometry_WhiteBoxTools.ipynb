{
 "cells": [
  {
   "cell_type": "markdown",
   "metadata": {
    "id": "3Jpj9F0qROeS"
   },
   "source": [
    "Install whiteboxtools, in python called [whotbox-workflows](https://www.whiteboxgeo.com/whitebox-workflows-for-python/), rasterio.\n",
    "\n",
    "Whitebox-workflows(WbW) is a Rust-based geo-processing software combining the Whitebox tools with Python scripting. Easily handle raster, vector, and LiDAR data from a single Python library."
   ]
  },
  {
   "cell_type": "code",
   "execution_count": null,
   "metadata": {
    "colab": {
     "base_uri": "https://localhost:8080/"
    },
    "id": "32pzT0fnwfeF",
    "outputId": "ed31ce47-f5ff-48b4-8e55-bff8421aeadb"
   },
   "outputs": [],
   "source": [
    "! pip install whitebox-workflows\n",
    "! pip install rasterio"
   ]
  },
  {
   "cell_type": "code",
   "execution_count": null,
   "metadata": {
    "id": "C7FJTsey8c8a"
   },
   "outputs": [],
   "source": [
    "import rasterio\n",
    "from rasterio.windows import from_bounds\n",
    "\n",
    "gedtm30='https://s3.opengeohub.org/global/edtm/gedtm_rf_m_30m_s_20060101_20151231_go_epsg.4326.3855_v1.2.tif'\n",
    "\n",
    "# Bounding box (minx, miny, maxx, maxy)\n",
    "bbox = (119.25, 21.53, 121.48, 23.23)\n",
    "\n",
    "with rasterio.open(gedtm30) as src:\n",
    "    window = from_bounds(*bbox, src.transform)\n",
    "    out_image = src.read(window=window)\n",
    "    out_transform = src.window_transform(window)\n",
    "    out_meta = src.meta.copy()\n",
    "\n",
    "out_meta.update({\n",
    "    \"driver\": \"GTiff\",\n",
    "    \"height\": out_image.shape[1],\n",
    "    \"width\": out_image.shape[2],\n",
    "    \"transform\": out_transform\n",
    "})\n",
    "\n",
    "tmp_dtm_rls_file=\"gedtm30_tw.tif\"\n",
    "\n",
    "with rasterio.open(tmp_dtm_rls_file, \"w\", **out_meta) as dest:\n",
    "    dest.write(out_image)"
   ]
  },
  {
   "cell_type": "code",
   "execution_count": null,
   "metadata": {
    "id": "jgznB1WAE2RW"
   },
   "outputs": [],
   "source": [
    "# setup environment\n",
    "import whitebox_workflows as wbw\n",
    "wbe = wbw.WbEnvironment()\n",
    "dtm = wbe.read_raster(tmp_dtm_rls_file)"
   ]
  },
  {
   "cell_type": "code",
   "execution_count": null,
   "metadata": {
    "id": "pSqjCsPYrsvl"
   },
   "outputs": [],
   "source": [
    "wbe.max_procs = -1 # allow whitebox to access all the threads"
   ]
  },
  {
   "cell_type": "code",
   "execution_count": null,
   "metadata": {
    "colab": {
     "base_uri": "https://localhost:8080/"
    },
    "id": "68YQTOaoEanF",
    "outputId": "7a524fea-df6e-40d8-dd45-47fad74e31ee"
   },
   "outputs": [],
   "source": [
    "import time\n",
    "\n",
    "start_time = time.time()\n",
    "dtm = wbe.read_raster(tmp_dtm_rls_file)\n",
    "print(f\"read raster--- %s seconds ---\" % (time.time() - start_time))\n",
    "\n",
    "start_time = time.time()\n",
    "dtm = dtm * 0.1 #decimeter to meter (m)\n",
    "print(f\"rescale--- %s seconds ---\" % (time.time() - start_time))\n",
    "\n",
    "tmp_dtm_file = tmp_dtm_rls_file.replace('dtm','filtered.dtm')\n",
    "start_time = time.time()\n",
    "dtm = wbe.gaussian_filter(dtm)\n",
    "print(f\"calculate gaussian filter--- %s seconds ---\" % (time.time() - start_time))\n",
    "\n",
    "# fill depression for hydrological analysis\n",
    "tmp_flled_dtm_file=tmp_dtm_rls_file.replace('dtm','nodepress.dtm')\n",
    "start_time = time.time()\n",
    "dtm_no_deps = wbe.fill_depressions(dtm)\n",
    "wbe.write_raster(dtm_no_deps, tmp_flled_dtm_file, compress=True)#, compress=False) # Compression is good, but it is a bit slower so here we won't use it.\n",
    "print(f\"calculate breach fill depression--- %s seconds ---\" % (time.time() - start_time))\n",
    "\n",
    "\n",
    "# slope for hydrology\n",
    "tmp_slope_file=tmp_dtm_rls_file.replace('dtm','slope.in.degree')\n",
    "start_time = time.time()\n",
    "slope_in_degree = wbe.slope(dtm,units=\"degrees\")\n",
    "wbe.write_raster(slope_in_degree, tmp_slope_file, compress=True)#, compress=False) # Compression is good, but it is a bit slower so here we won't use it.\n",
    "print(f\"calculate slope--- %s seconds ---\" % (time.time() - start_time))\n",
    "\n",
    "# Specific catchment area(SCA)\n",
    "tmp_sca_file=tmp_dtm_rls_file.replace('dtm','spec.catch')\n",
    "start_time = time.time()\n",
    "sca = wbe.qin_flow_accumulation(dtm_no_deps, out_type='sca')\n",
    "\n",
    "print(f\"calculate speicific catchment area--- %s seconds ---\" % (time.time() - start_time))\n",
    "\n",
    "\n",
    "#Twi\n",
    "start_time = time.time()\n",
    "tmp_twi_file=tmp_dtm_rls_file.replace('dtm','twi')\n",
    "twi = wbe.wetness_index(specific_catchment_area=sca, slope=slope_in_degree)\n",
    "wbe.write_raster(twi, tmp_twi_file, compress=True) # Compression is good, but it is a bit slower so here we won't use it.\n",
    "print(f\"topographic wetness index--- %s seconds ---\" % (time.time() - start_time))\n"
   ]
  }
 ],
 "metadata": {
  "colab": {
   "provenance": []
  },
  "kernelspec": {
   "display_name": "Python 3",
   "name": "python3"
  },
  "language_info": {
   "name": "python"
  }
 },
 "nbformat": 4,
 "nbformat_minor": 0
}
